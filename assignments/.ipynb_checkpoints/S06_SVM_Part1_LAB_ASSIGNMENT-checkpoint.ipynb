{
 "cells": [
  {
   "cell_type": "markdown",
   "id": "0ec81e2d-db8a-497d-a85b-7f9ad0094899",
   "metadata": {
    "id": "0ec81e2d-db8a-497d-a85b-7f9ad0094899"
   },
   "source": [
    "# Support Vector Machines Part 1"
   ]
  },
  {
   "cell_type": "code",
   "execution_count": 1,
   "id": "0d7ff475-7289-44da-b100-a8bdf43b7d2e",
   "metadata": {
    "tags": [],
    "id": "0d7ff475-7289-44da-b100-a8bdf43b7d2e",
    "ExecuteTime": {
     "end_time": "2023-10-28T12:33:18.157915600Z",
     "start_time": "2023-10-28T12:33:13.182271200Z"
    }
   },
   "outputs": [],
   "source": [
    "%matplotlib inline\n",
    "import numpy as np\n",
    "import pandas as pd\n",
    "import matplotlib as mpl\n",
    "import matplotlib.pyplot as plt\n",
    "\n",
    "from sklearn import datasets\n",
    "from sklearn import svm\n",
    "from sklearn import preprocessing"
   ]
  },
  {
   "cell_type": "code",
   "execution_count": 2,
   "id": "8b0e851c-a81d-4814-a060-b9bd26da7f34",
   "metadata": {
    "tags": [],
    "id": "8b0e851c-a81d-4814-a060-b9bd26da7f34",
    "ExecuteTime": {
     "end_time": "2023-10-28T12:33:18.180591400Z",
     "start_time": "2023-10-28T12:33:18.157915600Z"
    }
   },
   "outputs": [],
   "source": [
    "%config InlineBackend.figure_formats =['svg']\n",
    "\n",
    "plt.rc('font', size=14)\n",
    "plt.rc('axes', labelsize=14, titlesize=14)\n",
    "plt.rc('legend', fontsize=14)\n",
    "plt.rc('xtick', labelsize=10)\n",
    "plt.rc('ytick', labelsize=10)\n",
    "\n",
    "cmap = mpl.colors.ListedColormap(['red', 'black', 'blue'])"
   ]
  },
  {
   "cell_type": "markdown",
   "id": "920fe1cd-fd75-4b56-a47c-4317b990551a",
   "metadata": {
    "id": "920fe1cd-fd75-4b56-a47c-4317b990551a"
   },
   "source": [
    "## Task 1 Decision Boundary from a Maximal Margin Classifier (6 points)\n",
    "Let's create some synthetic data with two classes:"
   ]
  },
  {
   "cell_type": "code",
   "execution_count": 3,
   "id": "e76c7349-896a-4c70-9257-e08435f0c263",
   "metadata": {
    "tags": [],
    "id": "e76c7349-896a-4c70-9257-e08435f0c263",
    "ExecuteTime": {
     "end_time": "2023-10-28T12:33:18.911361800Z",
     "start_time": "2023-10-28T12:33:18.169581500Z"
    }
   },
   "outputs": [
    {
     "data": {
      "text/plain": "<Figure size 500x500 with 1 Axes>",
      "image/svg+xml": "<?xml version=\"1.0\" encoding=\"utf-8\" standalone=\"no\"?>\n<!DOCTYPE svg PUBLIC \"-//W3C//DTD SVG 1.1//EN\"\n  \"http://www.w3.org/Graphics/SVG/1.1/DTD/svg11.dtd\">\n<svg xmlns:xlink=\"http://www.w3.org/1999/xlink\" width=\"324.593437pt\" height=\"326.377813pt\" viewBox=\"0 0 324.593437 326.377813\" xmlns=\"http://www.w3.org/2000/svg\" version=\"1.1\">\n <metadata>\n  <rdf:RDF xmlns:dc=\"http://purl.org/dc/elements/1.1/\" xmlns:cc=\"http://creativecommons.org/ns#\" xmlns:rdf=\"http://www.w3.org/1999/02/22-rdf-syntax-ns#\">\n   <cc:Work>\n    <dc:type rdf:resource=\"http://purl.org/dc/dcmitype/StillImage\"/>\n    <dc:date>2023-10-28T14:33:18.684661</dc:date>\n    <dc:format>image/svg+xml</dc:format>\n    <dc:creator>\n     <cc:Agent>\n      <dc:title>Matplotlib v3.8.0, https://matplotlib.org/</dc:title>\n     </cc:Agent>\n    </dc:creator>\n   </cc:Work>\n  </rdf:RDF>\n </metadata>\n <defs>\n  <style type=\"text/css\">*{stroke-linejoin: round; stroke-linecap: butt}</style>\n </defs>\n <g id=\"figure_1\">\n  <g id=\"patch_1\">\n   <path d=\"M 0 326.377813 \nL 324.593437 326.377813 \nL 324.593437 0 \nL 0 0 \nz\n\" style=\"fill: #ffffff\"/>\n  </g>\n  <g id=\"axes_1\">\n   <g id=\"patch_2\">\n    <path d=\"M 38.393438 284.4 \nL 317.393438 284.4 \nL 317.393438 7.2 \nL 38.393438 7.2 \nz\n\" style=\"fill: #eaeaf2\"/>\n   </g>\n   <g id=\"matplotlib.axis_1\">\n    <g id=\"xtick_1\">\n     <g id=\"line2d_1\">\n      <path d=\"M 54.840039 284.4 \nL 54.840039 7.2 \n\" clip-path=\"url(#pbce5ad00e4)\" style=\"fill: none; stroke: #ffffff; stroke-width: 0.8; stroke-linecap: round\"/>\n     </g>\n     <g id=\"text_1\">\n      <!-- −0.5 -->\n      <g style=\"fill: #262626\" transform=\"translate(44.969727 298.557813) scale(0.1 -0.1)\">\n       <defs>\n        <path id=\"ArialMT-2212\" d=\"M 3381 1997 \nL 356 1997 \nL 356 2522 \nL 3381 2522 \nL 3381 1997 \nz\n\" transform=\"scale(0.015625)\"/>\n        <path id=\"ArialMT-30\" d=\"M 266 2259 \nQ 266 3072 433 3567 \nQ 600 4063 929 4331 \nQ 1259 4600 1759 4600 \nQ 2128 4600 2406 4451 \nQ 2684 4303 2865 4023 \nQ 3047 3744 3150 3342 \nQ 3253 2941 3253 2259 \nQ 3253 1453 3087 958 \nQ 2922 463 2592 192 \nQ 2263 -78 1759 -78 \nQ 1097 -78 719 397 \nQ 266 969 266 2259 \nz\nM 844 2259 \nQ 844 1131 1108 757 \nQ 1372 384 1759 384 \nQ 2147 384 2411 759 \nQ 2675 1134 2675 2259 \nQ 2675 3391 2411 3762 \nQ 2147 4134 1753 4134 \nQ 1366 4134 1134 3806 \nQ 844 3388 844 2259 \nz\n\" transform=\"scale(0.015625)\"/>\n        <path id=\"ArialMT-2e\" d=\"M 581 0 \nL 581 641 \nL 1222 641 \nL 1222 0 \nL 581 0 \nz\n\" transform=\"scale(0.015625)\"/>\n        <path id=\"ArialMT-35\" d=\"M 266 1200 \nL 856 1250 \nQ 922 819 1161 601 \nQ 1400 384 1738 384 \nQ 2144 384 2425 690 \nQ 2706 997 2706 1503 \nQ 2706 1984 2436 2262 \nQ 2166 2541 1728 2541 \nQ 1456 2541 1237 2417 \nQ 1019 2294 894 2097 \nL 366 2166 \nL 809 4519 \nL 3088 4519 \nL 3088 3981 \nL 1259 3981 \nL 1013 2750 \nQ 1425 3038 1878 3038 \nQ 2478 3038 2890 2622 \nQ 3303 2206 3303 1553 \nQ 3303 931 2941 478 \nQ 2500 -78 1738 -78 \nQ 1113 -78 717 272 \nQ 322 622 266 1200 \nz\n\" transform=\"scale(0.015625)\"/>\n       </defs>\n       <use xlink:href=\"#ArialMT-2212\"/>\n       <use xlink:href=\"#ArialMT-30\" x=\"58.398438\"/>\n       <use xlink:href=\"#ArialMT-2e\" x=\"114.013672\"/>\n       <use xlink:href=\"#ArialMT-35\" x=\"141.796875\"/>\n      </g>\n     </g>\n    </g>\n    <g id=\"xtick_2\">\n     <g id=\"line2d_2\">\n      <path d=\"M 88.742464 284.4 \nL 88.742464 7.2 \n\" clip-path=\"url(#pbce5ad00e4)\" style=\"fill: none; stroke: #ffffff; stroke-width: 0.8; stroke-linecap: round\"/>\n     </g>\n     <g id=\"text_2\">\n      <!-- 0.0 -->\n      <g style=\"fill: #262626\" transform=\"translate(81.792464 298.557813) scale(0.1 -0.1)\">\n       <use xlink:href=\"#ArialMT-30\"/>\n       <use xlink:href=\"#ArialMT-2e\" x=\"55.615234\"/>\n       <use xlink:href=\"#ArialMT-30\" x=\"83.398438\"/>\n      </g>\n     </g>\n    </g>\n    <g id=\"xtick_3\">\n     <g id=\"line2d_3\">\n      <path d=\"M 122.644889 284.4 \nL 122.644889 7.2 \n\" clip-path=\"url(#pbce5ad00e4)\" style=\"fill: none; stroke: #ffffff; stroke-width: 0.8; stroke-linecap: round\"/>\n     </g>\n     <g id=\"text_3\">\n      <!-- 0.5 -->\n      <g style=\"fill: #262626\" transform=\"translate(115.694889 298.557813) scale(0.1 -0.1)\">\n       <use xlink:href=\"#ArialMT-30\"/>\n       <use xlink:href=\"#ArialMT-2e\" x=\"55.615234\"/>\n       <use xlink:href=\"#ArialMT-35\" x=\"83.398438\"/>\n      </g>\n     </g>\n    </g>\n    <g id=\"xtick_4\">\n     <g id=\"line2d_4\">\n      <path d=\"M 156.547314 284.4 \nL 156.547314 7.2 \n\" clip-path=\"url(#pbce5ad00e4)\" style=\"fill: none; stroke: #ffffff; stroke-width: 0.8; stroke-linecap: round\"/>\n     </g>\n     <g id=\"text_4\">\n      <!-- 1.0 -->\n      <g style=\"fill: #262626\" transform=\"translate(149.597314 298.557813) scale(0.1 -0.1)\">\n       <defs>\n        <path id=\"ArialMT-31\" d=\"M 2384 0 \nL 1822 0 \nL 1822 3584 \nQ 1619 3391 1289 3197 \nQ 959 3003 697 2906 \nL 697 3450 \nQ 1169 3672 1522 3987 \nQ 1875 4303 2022 4600 \nL 2384 4600 \nL 2384 0 \nz\n\" transform=\"scale(0.015625)\"/>\n       </defs>\n       <use xlink:href=\"#ArialMT-31\"/>\n       <use xlink:href=\"#ArialMT-2e\" x=\"55.615234\"/>\n       <use xlink:href=\"#ArialMT-30\" x=\"83.398438\"/>\n      </g>\n     </g>\n    </g>\n    <g id=\"xtick_5\">\n     <g id=\"line2d_5\">\n      <path d=\"M 190.449739 284.4 \nL 190.449739 7.2 \n\" clip-path=\"url(#pbce5ad00e4)\" style=\"fill: none; stroke: #ffffff; stroke-width: 0.8; stroke-linecap: round\"/>\n     </g>\n     <g id=\"text_5\">\n      <!-- 1.5 -->\n      <g style=\"fill: #262626\" transform=\"translate(183.499739 298.557813) scale(0.1 -0.1)\">\n       <use xlink:href=\"#ArialMT-31\"/>\n       <use xlink:href=\"#ArialMT-2e\" x=\"55.615234\"/>\n       <use xlink:href=\"#ArialMT-35\" x=\"83.398438\"/>\n      </g>\n     </g>\n    </g>\n    <g id=\"xtick_6\">\n     <g id=\"line2d_6\">\n      <path d=\"M 224.352163 284.4 \nL 224.352163 7.2 \n\" clip-path=\"url(#pbce5ad00e4)\" style=\"fill: none; stroke: #ffffff; stroke-width: 0.8; stroke-linecap: round\"/>\n     </g>\n     <g id=\"text_6\">\n      <!-- 2.0 -->\n      <g style=\"fill: #262626\" transform=\"translate(217.402163 298.557813) scale(0.1 -0.1)\">\n       <defs>\n        <path id=\"ArialMT-32\" d=\"M 3222 541 \nL 3222 0 \nL 194 0 \nQ 188 203 259 391 \nQ 375 700 629 1000 \nQ 884 1300 1366 1694 \nQ 2113 2306 2375 2664 \nQ 2638 3022 2638 3341 \nQ 2638 3675 2398 3904 \nQ 2159 4134 1775 4134 \nQ 1369 4134 1125 3890 \nQ 881 3647 878 3216 \nL 300 3275 \nQ 359 3922 746 4261 \nQ 1134 4600 1788 4600 \nQ 2447 4600 2831 4234 \nQ 3216 3869 3216 3328 \nQ 3216 3053 3103 2787 \nQ 2991 2522 2730 2228 \nQ 2469 1934 1863 1422 \nQ 1356 997 1212 845 \nQ 1069 694 975 541 \nL 3222 541 \nz\n\" transform=\"scale(0.015625)\"/>\n       </defs>\n       <use xlink:href=\"#ArialMT-32\"/>\n       <use xlink:href=\"#ArialMT-2e\" x=\"55.615234\"/>\n       <use xlink:href=\"#ArialMT-30\" x=\"83.398438\"/>\n      </g>\n     </g>\n    </g>\n    <g id=\"xtick_7\">\n     <g id=\"line2d_7\">\n      <path d=\"M 258.254588 284.4 \nL 258.254588 7.2 \n\" clip-path=\"url(#pbce5ad00e4)\" style=\"fill: none; stroke: #ffffff; stroke-width: 0.8; stroke-linecap: round\"/>\n     </g>\n     <g id=\"text_7\">\n      <!-- 2.5 -->\n      <g style=\"fill: #262626\" transform=\"translate(251.304588 298.557813) scale(0.1 -0.1)\">\n       <use xlink:href=\"#ArialMT-32\"/>\n       <use xlink:href=\"#ArialMT-2e\" x=\"55.615234\"/>\n       <use xlink:href=\"#ArialMT-35\" x=\"83.398438\"/>\n      </g>\n     </g>\n    </g>\n    <g id=\"xtick_8\">\n     <g id=\"line2d_8\">\n      <path d=\"M 292.157013 284.4 \nL 292.157013 7.2 \n\" clip-path=\"url(#pbce5ad00e4)\" style=\"fill: none; stroke: #ffffff; stroke-width: 0.8; stroke-linecap: round\"/>\n     </g>\n     <g id=\"text_8\">\n      <!-- 3.0 -->\n      <g style=\"fill: #262626\" transform=\"translate(285.207013 298.557813) scale(0.1 -0.1)\">\n       <defs>\n        <path id=\"ArialMT-33\" d=\"M 269 1209 \nL 831 1284 \nQ 928 806 1161 595 \nQ 1394 384 1728 384 \nQ 2125 384 2398 659 \nQ 2672 934 2672 1341 \nQ 2672 1728 2419 1979 \nQ 2166 2231 1775 2231 \nQ 1616 2231 1378 2169 \nL 1441 2663 \nQ 1497 2656 1531 2656 \nQ 1891 2656 2178 2843 \nQ 2466 3031 2466 3422 \nQ 2466 3731 2256 3934 \nQ 2047 4138 1716 4138 \nQ 1388 4138 1169 3931 \nQ 950 3725 888 3313 \nL 325 3413 \nQ 428 3978 793 4289 \nQ 1159 4600 1703 4600 \nQ 2078 4600 2393 4439 \nQ 2709 4278 2876 4000 \nQ 3044 3722 3044 3409 \nQ 3044 3113 2884 2869 \nQ 2725 2625 2413 2481 \nQ 2819 2388 3044 2092 \nQ 3269 1797 3269 1353 \nQ 3269 753 2831 336 \nQ 2394 -81 1725 -81 \nQ 1122 -81 723 278 \nQ 325 638 269 1209 \nz\n\" transform=\"scale(0.015625)\"/>\n       </defs>\n       <use xlink:href=\"#ArialMT-33\"/>\n       <use xlink:href=\"#ArialMT-2e\" x=\"55.615234\"/>\n       <use xlink:href=\"#ArialMT-30\" x=\"83.398438\"/>\n      </g>\n     </g>\n    </g>\n    <g id=\"text_9\">\n     <!-- $x_1$ -->\n     <g style=\"fill: #262626\" transform=\"translate(169.333438 315.997813) scale(0.16 -0.16)\">\n      <defs>\n       <path id=\"DejaVuSans-Oblique-78\" d=\"M 3841 3500 \nL 2234 1784 \nL 3219 0 \nL 2559 0 \nL 1819 1388 \nL 531 0 \nL -166 0 \nL 1556 1844 \nL 641 3500 \nL 1300 3500 \nL 1972 2234 \nL 3144 3500 \nL 3841 3500 \nz\n\" transform=\"scale(0.015625)\"/>\n       <path id=\"DejaVuSans-31\" d=\"M 794 531 \nL 1825 531 \nL 1825 4091 \nL 703 3866 \nL 703 4441 \nL 1819 4666 \nL 2450 4666 \nL 2450 531 \nL 3481 531 \nL 3481 0 \nL 794 0 \nL 794 531 \nz\n\" transform=\"scale(0.015625)\"/>\n      </defs>\n      <use xlink:href=\"#DejaVuSans-Oblique-78\" transform=\"translate(0 0.3125)\"/>\n      <use xlink:href=\"#DejaVuSans-31\" transform=\"translate(59.179688 -16.09375) scale(0.7)\"/>\n     </g>\n    </g>\n   </g>\n   <g id=\"matplotlib.axis_2\">\n    <g id=\"ytick_1\">\n     <g id=\"line2d_9\">\n      <path d=\"M 38.393438 265.598919 \nL 317.393438 265.598919 \n\" clip-path=\"url(#pbce5ad00e4)\" style=\"fill: none; stroke: #ffffff; stroke-width: 0.8; stroke-linecap: round\"/>\n     </g>\n     <g id=\"text_10\">\n      <!-- 0 -->\n      <g style=\"fill: #262626\" transform=\"translate(25.8325 269.177826) scale(0.1 -0.1)\">\n       <use xlink:href=\"#ArialMT-30\"/>\n      </g>\n     </g>\n    </g>\n    <g id=\"ytick_2\">\n     <g id=\"line2d_10\">\n      <path d=\"M 38.393438 220.69801 \nL 317.393438 220.69801 \n\" clip-path=\"url(#pbce5ad00e4)\" style=\"fill: none; stroke: #ffffff; stroke-width: 0.8; stroke-linecap: round\"/>\n     </g>\n     <g id=\"text_11\">\n      <!-- 1 -->\n      <g style=\"fill: #262626\" transform=\"translate(25.8325 224.276916) scale(0.1 -0.1)\">\n       <use xlink:href=\"#ArialMT-31\"/>\n      </g>\n     </g>\n    </g>\n    <g id=\"ytick_3\">\n     <g id=\"line2d_11\">\n      <path d=\"M 38.393438 175.7971 \nL 317.393438 175.7971 \n\" clip-path=\"url(#pbce5ad00e4)\" style=\"fill: none; stroke: #ffffff; stroke-width: 0.8; stroke-linecap: round\"/>\n     </g>\n     <g id=\"text_12\">\n      <!-- 2 -->\n      <g style=\"fill: #262626\" transform=\"translate(25.8325 179.376007) scale(0.1 -0.1)\">\n       <use xlink:href=\"#ArialMT-32\"/>\n      </g>\n     </g>\n    </g>\n    <g id=\"ytick_4\">\n     <g id=\"line2d_12\">\n      <path d=\"M 38.393438 130.896191 \nL 317.393438 130.896191 \n\" clip-path=\"url(#pbce5ad00e4)\" style=\"fill: none; stroke: #ffffff; stroke-width: 0.8; stroke-linecap: round\"/>\n     </g>\n     <g id=\"text_13\">\n      <!-- 3 -->\n      <g style=\"fill: #262626\" transform=\"translate(25.8325 134.475097) scale(0.1 -0.1)\">\n       <use xlink:href=\"#ArialMT-33\"/>\n      </g>\n     </g>\n    </g>\n    <g id=\"ytick_5\">\n     <g id=\"line2d_13\">\n      <path d=\"M 38.393438 85.995281 \nL 317.393438 85.995281 \n\" clip-path=\"url(#pbce5ad00e4)\" style=\"fill: none; stroke: #ffffff; stroke-width: 0.8; stroke-linecap: round\"/>\n     </g>\n     <g id=\"text_14\">\n      <!-- 4 -->\n      <g style=\"fill: #262626\" transform=\"translate(25.8325 89.574187) scale(0.1 -0.1)\">\n       <defs>\n        <path id=\"ArialMT-34\" d=\"M 2069 0 \nL 2069 1097 \nL 81 1097 \nL 81 1613 \nL 2172 4581 \nL 2631 4581 \nL 2631 1613 \nL 3250 1613 \nL 3250 1097 \nL 2631 1097 \nL 2631 0 \nL 2069 0 \nz\nM 2069 1613 \nL 2069 3678 \nL 634 1613 \nL 2069 1613 \nz\n\" transform=\"scale(0.015625)\"/>\n       </defs>\n       <use xlink:href=\"#ArialMT-34\"/>\n      </g>\n     </g>\n    </g>\n    <g id=\"ytick_6\">\n     <g id=\"line2d_14\">\n      <path d=\"M 38.393438 41.094372 \nL 317.393438 41.094372 \n\" clip-path=\"url(#pbce5ad00e4)\" style=\"fill: none; stroke: #ffffff; stroke-width: 0.8; stroke-linecap: round\"/>\n     </g>\n     <g id=\"text_15\">\n      <!-- 5 -->\n      <g style=\"fill: #262626\" transform=\"translate(25.8325 44.673278) scale(0.1 -0.1)\">\n       <use xlink:href=\"#ArialMT-35\"/>\n      </g>\n     </g>\n    </g>\n    <g id=\"text_16\">\n     <!-- $x_2$ -->\n     <g style=\"fill: #262626\" transform=\"translate(18.6525 154.36) rotate(-90) scale(0.16 -0.16)\">\n      <defs>\n       <path id=\"DejaVuSans-32\" d=\"M 1228 531 \nL 3431 531 \nL 3431 0 \nL 469 0 \nL 469 531 \nQ 828 903 1448 1529 \nQ 2069 2156 2228 2338 \nQ 2531 2678 2651 2914 \nQ 2772 3150 2772 3378 \nQ 2772 3750 2511 3984 \nQ 2250 4219 1831 4219 \nQ 1534 4219 1204 4116 \nQ 875 4013 500 3803 \nL 500 4441 \nQ 881 4594 1212 4672 \nQ 1544 4750 1819 4750 \nQ 2544 4750 2975 4387 \nQ 3406 4025 3406 3419 \nQ 3406 3131 3298 2873 \nQ 3191 2616 2906 2266 \nQ 2828 2175 2409 1742 \nQ 1991 1309 1228 531 \nz\n\" transform=\"scale(0.015625)\"/>\n      </defs>\n      <use xlink:href=\"#DejaVuSans-Oblique-78\" transform=\"translate(0 0.3125)\"/>\n      <use xlink:href=\"#DejaVuSans-32\" transform=\"translate(59.179688 -16.09375) scale(0.7)\"/>\n     </g>\n    </g>\n   </g>\n   <g id=\"PathCollection_1\">\n    <defs>\n     <path id=\"C0_0_3edd1e01b2\" d=\"M 0 3.535534 \nC 0.937635 3.535534 1.836992 3.163008 2.5 2.5 \nC 3.163008 1.836992 3.535534 0.937635 3.535534 -0 \nC 3.535534 -0.937635 3.163008 -1.836992 2.5 -2.5 \nC 1.836992 -3.163008 0.937635 -3.535534 0 -3.535534 \nC -0.937635 -3.535534 -1.836992 -3.163008 -2.5 -2.5 \nC -3.163008 -1.836992 -3.535534 -0.937635 -3.535534 0 \nC -3.535534 0.937635 -3.163008 1.836992 -2.5 2.5 \nC -1.836992 3.163008 -0.937635 3.535534 0 3.535534 \nz\n\"/>\n    </defs>\n    <g clip-path=\"url(#pbce5ad00e4)\">\n     <use xlink:href=\"#C0_0_3edd1e01b2\" x=\"184.538237\" y=\"196.8855\" style=\"fill: #0000ff; stroke: #0000ff\"/>\n    </g>\n    <g clip-path=\"url(#pbce5ad00e4)\">\n     <use xlink:href=\"#C0_0_3edd1e01b2\" x=\"211.697158\" y=\"192.359667\" style=\"fill: #0000ff; stroke: #0000ff\"/>\n    </g>\n    <g clip-path=\"url(#pbce5ad00e4)\">\n     <use xlink:href=\"#C0_0_3edd1e01b2\" x=\"185.899539\" y=\"69.076962\" style=\"fill: #ff0000; stroke: #ff0000\"/>\n    </g>\n    <g clip-path=\"url(#pbce5ad00e4)\">\n     <use xlink:href=\"#C0_0_3edd1e01b2\" x=\"215.721794\" y=\"77.882029\" style=\"fill: #ff0000; stroke: #ff0000\"/>\n    </g>\n    <g clip-path=\"url(#pbce5ad00e4)\">\n     <use xlink:href=\"#C0_0_3edd1e01b2\" x=\"230.805684\" y=\"217.144247\" style=\"fill: #0000ff; stroke: #0000ff\"/>\n    </g>\n    <g clip-path=\"url(#pbce5ad00e4)\">\n     <use xlink:href=\"#C0_0_3edd1e01b2\" x=\"274.453705\" y=\"258.559886\" style=\"fill: #0000ff; stroke: #0000ff\"/>\n    </g>\n    <g clip-path=\"url(#pbce5ad00e4)\">\n     <use xlink:href=\"#C0_0_3edd1e01b2\" x=\"304.711619\" y=\"261.602369\" style=\"fill: #0000ff; stroke: #0000ff\"/>\n    </g>\n    <g clip-path=\"url(#pbce5ad00e4)\">\n     <use xlink:href=\"#C0_0_3edd1e01b2\" x=\"228.526741\" y=\"177.180679\" style=\"fill: #0000ff; stroke: #0000ff\"/>\n    </g>\n    <g clip-path=\"url(#pbce5ad00e4)\">\n     <use xlink:href=\"#C0_0_3edd1e01b2\" x=\"226.953034\" y=\"213.75351\" style=\"fill: #0000ff; stroke: #0000ff\"/>\n    </g>\n    <g clip-path=\"url(#pbce5ad00e4)\">\n     <use xlink:href=\"#C0_0_3edd1e01b2\" x=\"85.522274\" y=\"19.8\" style=\"fill: #ff0000; stroke: #ff0000\"/>\n    </g>\n    <g clip-path=\"url(#pbce5ad00e4)\">\n     <use xlink:href=\"#C0_0_3edd1e01b2\" x=\"204.990115\" y=\"39.962184\" style=\"fill: #ff0000; stroke: #ff0000\"/>\n    </g>\n    <g clip-path=\"url(#pbce5ad00e4)\">\n     <use xlink:href=\"#C0_0_3edd1e01b2\" x=\"103.970949\" y=\"51.408939\" style=\"fill: #ff0000; stroke: #ff0000\"/>\n    </g>\n    <g clip-path=\"url(#pbce5ad00e4)\">\n     <use xlink:href=\"#C0_0_3edd1e01b2\" x=\"161.242022\" y=\"62.167049\" style=\"fill: #ff0000; stroke: #ff0000\"/>\n    </g>\n    <g clip-path=\"url(#pbce5ad00e4)\">\n     <use xlink:href=\"#C0_0_3edd1e01b2\" x=\"192.673008\" y=\"240.88753\" style=\"fill: #0000ff; stroke: #0000ff\"/>\n    </g>\n    <g clip-path=\"url(#pbce5ad00e4)\">\n     <use xlink:href=\"#C0_0_3edd1e01b2\" x=\"190.10609\" y=\"92.349284\" style=\"fill: #ff0000; stroke: #ff0000\"/>\n    </g>\n    <g clip-path=\"url(#pbce5ad00e4)\">\n     <use xlink:href=\"#C0_0_3edd1e01b2\" x=\"167.674815\" y=\"95.364759\" style=\"fill: #ff0000; stroke: #ff0000\"/>\n    </g>\n    <g clip-path=\"url(#pbce5ad00e4)\">\n     <use xlink:href=\"#C0_0_3edd1e01b2\" x=\"139.180728\" y=\"80.499155\" style=\"fill: #ff0000; stroke: #ff0000\"/>\n    </g>\n    <g clip-path=\"url(#pbce5ad00e4)\">\n     <use xlink:href=\"#C0_0_3edd1e01b2\" x=\"244.467998\" y=\"243.742162\" style=\"fill: #0000ff; stroke: #0000ff\"/>\n    </g>\n    <g clip-path=\"url(#pbce5ad00e4)\">\n     <use xlink:href=\"#C0_0_3edd1e01b2\" x=\"118.820603\" y=\"125.718692\" style=\"fill: #ff0000; stroke: #ff0000\"/>\n    </g>\n    <g clip-path=\"url(#pbce5ad00e4)\">\n     <use xlink:href=\"#C0_0_3edd1e01b2\" x=\"150.739067\" y=\"61.293206\" style=\"fill: #ff0000; stroke: #ff0000\"/>\n    </g>\n    <g clip-path=\"url(#pbce5ad00e4)\">\n     <use xlink:href=\"#C0_0_3edd1e01b2\" x=\"202.293501\" y=\"235.06545\" style=\"fill: #0000ff; stroke: #0000ff\"/>\n    </g>\n    <g clip-path=\"url(#pbce5ad00e4)\">\n     <use xlink:href=\"#C0_0_3edd1e01b2\" x=\"242.597591\" y=\"206.257538\" style=\"fill: #0000ff; stroke: #0000ff\"/>\n    </g>\n    <g clip-path=\"url(#pbce5ad00e4)\">\n     <use xlink:href=\"#C0_0_3edd1e01b2\" x=\"191.188032\" y=\"223.893567\" style=\"fill: #0000ff; stroke: #0000ff\"/>\n    </g>\n    <g clip-path=\"url(#pbce5ad00e4)\">\n     <use xlink:href=\"#C0_0_3edd1e01b2\" x=\"200.741922\" y=\"234.979563\" style=\"fill: #0000ff; stroke: #0000ff\"/>\n    </g>\n    <g clip-path=\"url(#pbce5ad00e4)\">\n     <use xlink:href=\"#C0_0_3edd1e01b2\" x=\"257.761095\" y=\"221.818135\" style=\"fill: #0000ff; stroke: #0000ff\"/>\n    </g>\n    <g clip-path=\"url(#pbce5ad00e4)\">\n     <use xlink:href=\"#C0_0_3edd1e01b2\" x=\"247.278533\" y=\"111.536359\" style=\"fill: #ff0000; stroke: #ff0000\"/>\n    </g>\n    <g clip-path=\"url(#pbce5ad00e4)\">\n     <use xlink:href=\"#C0_0_3edd1e01b2\" x=\"134.204176\" y=\"84.156915\" style=\"fill: #ff0000; stroke: #ff0000\"/>\n    </g>\n    <g clip-path=\"url(#pbce5ad00e4)\">\n     <use xlink:href=\"#C0_0_3edd1e01b2\" x=\"51.075256\" y=\"54.746112\" style=\"fill: #ff0000; stroke: #ff0000\"/>\n    </g>\n    <g clip-path=\"url(#pbce5ad00e4)\">\n     <use xlink:href=\"#C0_0_3edd1e01b2\" x=\"235.317781\" y=\"236.117202\" style=\"fill: #0000ff; stroke: #0000ff\"/>\n    </g>\n    <g clip-path=\"url(#pbce5ad00e4)\">\n     <use xlink:href=\"#C0_0_3edd1e01b2\" x=\"230.916003\" y=\"98.683353\" style=\"fill: #ff0000; stroke: #ff0000\"/>\n    </g>\n    <g clip-path=\"url(#pbce5ad00e4)\">\n     <use xlink:href=\"#C0_0_3edd1e01b2\" x=\"236.572802\" y=\"198.981816\" style=\"fill: #0000ff; stroke: #0000ff\"/>\n    </g>\n    <g clip-path=\"url(#pbce5ad00e4)\">\n     <use xlink:href=\"#C0_0_3edd1e01b2\" x=\"118.508125\" y=\"61.931589\" style=\"fill: #ff0000; stroke: #ff0000\"/>\n    </g>\n    <g clip-path=\"url(#pbce5ad00e4)\">\n     <use xlink:href=\"#C0_0_3edd1e01b2\" x=\"172.995958\" y=\"63.365585\" style=\"fill: #ff0000; stroke: #ff0000\"/>\n    </g>\n    <g clip-path=\"url(#pbce5ad00e4)\">\n     <use xlink:href=\"#C0_0_3edd1e01b2\" x=\"89.28025\" y=\"78.086293\" style=\"fill: #ff0000; stroke: #ff0000\"/>\n    </g>\n    <g clip-path=\"url(#pbce5ad00e4)\">\n     <use xlink:href=\"#C0_0_3edd1e01b2\" x=\"217.296229\" y=\"32.769627\" style=\"fill: #ff0000; stroke: #ff0000\"/>\n    </g>\n    <g clip-path=\"url(#pbce5ad00e4)\">\n     <use xlink:href=\"#C0_0_3edd1e01b2\" x=\"215.424706\" y=\"223.77988\" style=\"fill: #0000ff; stroke: #0000ff\"/>\n    </g>\n    <g clip-path=\"url(#pbce5ad00e4)\">\n     <use xlink:href=\"#C0_0_3edd1e01b2\" x=\"233.262723\" y=\"214.463192\" style=\"fill: #0000ff; stroke: #0000ff\"/>\n    </g>\n    <g clip-path=\"url(#pbce5ad00e4)\">\n     <use xlink:href=\"#C0_0_3edd1e01b2\" x=\"160.798422\" y=\"33.176032\" style=\"fill: #ff0000; stroke: #ff0000\"/>\n    </g>\n    <g clip-path=\"url(#pbce5ad00e4)\">\n     <use xlink:href=\"#C0_0_3edd1e01b2\" x=\"247.044072\" y=\"266.680248\" style=\"fill: #0000ff; stroke: #0000ff\"/>\n    </g>\n    <g clip-path=\"url(#pbce5ad00e4)\">\n     <use xlink:href=\"#C0_0_3edd1e01b2\" x=\"134.157271\" y=\"104.161829\" style=\"fill: #ff0000; stroke: #ff0000\"/>\n    </g>\n    <g clip-path=\"url(#pbce5ad00e4)\">\n     <use xlink:href=\"#C0_0_3edd1e01b2\" x=\"161.778357\" y=\"212.825398\" style=\"fill: #0000ff; stroke: #0000ff\"/>\n    </g>\n    <g clip-path=\"url(#pbce5ad00e4)\">\n     <use xlink:href=\"#C0_0_3edd1e01b2\" x=\"193.590671\" y=\"76.4326\" style=\"fill: #ff0000; stroke: #ff0000\"/>\n    </g>\n    <g clip-path=\"url(#pbce5ad00e4)\">\n     <use xlink:href=\"#C0_0_3edd1e01b2\" x=\"195.018413\" y=\"271.8\" style=\"fill: #0000ff; stroke: #0000ff\"/>\n    </g>\n    <g clip-path=\"url(#pbce5ad00e4)\">\n     <use xlink:href=\"#C0_0_3edd1e01b2\" x=\"180.697884\" y=\"201.024247\" style=\"fill: #0000ff; stroke: #0000ff\"/>\n    </g>\n    <g clip-path=\"url(#pbce5ad00e4)\">\n     <use xlink:href=\"#C0_0_3edd1e01b2\" x=\"156.7999\" y=\"77.397789\" style=\"fill: #ff0000; stroke: #ff0000\"/>\n    </g>\n    <g clip-path=\"url(#pbce5ad00e4)\">\n     <use xlink:href=\"#C0_0_3edd1e01b2\" x=\"176.412543\" y=\"199.176928\" style=\"fill: #0000ff; stroke: #0000ff\"/>\n    </g>\n    <g clip-path=\"url(#pbce5ad00e4)\">\n     <use xlink:href=\"#C0_0_3edd1e01b2\" x=\"288.645999\" y=\"174.216716\" style=\"fill: #0000ff; stroke: #0000ff\"/>\n    </g>\n    <g clip-path=\"url(#pbce5ad00e4)\">\n     <use xlink:href=\"#C0_0_3edd1e01b2\" x=\"112.280124\" y=\"110.611012\" style=\"fill: #ff0000; stroke: #ff0000\"/>\n    </g>\n    <g clip-path=\"url(#pbce5ad00e4)\">\n     <use xlink:href=\"#C0_0_3edd1e01b2\" x=\"276.055752\" y=\"230.140278\" style=\"fill: #0000ff; stroke: #0000ff\"/>\n    </g>\n    <g clip-path=\"url(#pbce5ad00e4)\">\n     <use xlink:href=\"#C0_0_3edd1e01b2\" x=\"140.784231\" y=\"68.142827\" style=\"fill: #ff0000; stroke: #ff0000\"/>\n    </g>\n   </g>\n   <g id=\"patch_3\">\n    <path d=\"M 38.393438 284.4 \nL 38.393438 7.2 \n\" style=\"fill: none; stroke: #ffffff; stroke-width: 0.8; stroke-linejoin: miter; stroke-linecap: square\"/>\n   </g>\n   <g id=\"patch_4\">\n    <path d=\"M 317.393438 284.4 \nL 317.393438 7.2 \n\" style=\"fill: none; stroke: #ffffff; stroke-width: 0.8; stroke-linejoin: miter; stroke-linecap: square\"/>\n   </g>\n   <g id=\"patch_5\">\n    <path d=\"M 38.393438 284.4 \nL 317.393438 284.4 \n\" style=\"fill: none; stroke: #ffffff; stroke-width: 0.8; stroke-linejoin: miter; stroke-linecap: square\"/>\n   </g>\n   <g id=\"patch_6\">\n    <path d=\"M 38.393438 7.2 \nL 317.393438 7.2 \n\" style=\"fill: none; stroke: #ffffff; stroke-width: 0.8; stroke-linejoin: miter; stroke-linecap: square\"/>\n   </g>\n  </g>\n </g>\n <defs>\n  <clipPath id=\"pbce5ad00e4\">\n   <rect x=\"38.393438\" y=\"7.2\" width=\"279\" height=\"277.2\"/>\n  </clipPath>\n </defs>\n</svg>\n"
     },
     "metadata": {},
     "output_type": "display_data"
    }
   ],
   "source": [
    "X, y = datasets.make_blobs(n_samples=50, centers=2,\n",
    "                           random_state=0, cluster_std=0.60)\n",
    "\n",
    "y[np.where(y == 0)] = -1\n",
    "\n",
    "fig, ax = plt.subplots(figsize=(5, 5))\n",
    "ax.scatter(X[:, 0], X[:, 1], c=y, s=50, cmap=cmap)\n",
    "\n",
    "ax.set_xlabel(r'$x_1$', fontsize=16)\n",
    "ax.set_ylabel(r'$x_2$', fontsize=16)\n",
    "\n",
    "plt.show()"
   ]
  },
  {
   "cell_type": "markdown",
   "id": "43d2da5f-b77c-4a21-a432-a32c2b43f863",
   "metadata": {
    "id": "43d2da5f-b77c-4a21-a432-a32c2b43f863"
   },
   "source": [
    "In this task we will use the `SVC` model of `sklearn.svm` with a `kernel=linear` and large parameter `C`. `sklearn`'s module `svm` has implementations of several Support Vector Machine algorithms. Some are meant to solve Regression, some - Classification problems. `LinearSVC` stands for Linear Support Vector Classification which is exactly what we need in order to solve the maximal margin classification problem. However, `svm.SVC` offers more flexibility in order to extract the learned parameters etc."
   ]
  },
  {
   "cell_type": "code",
   "execution_count": 4,
   "id": "23ebbb6a-3e34-42de-86bc-40bb56dee0f9",
   "metadata": {
    "tags": [],
    "id": "23ebbb6a-3e34-42de-86bc-40bb56dee0f9",
    "ExecuteTime": {
     "end_time": "2023-10-28T12:33:18.983122400Z",
     "start_time": "2023-10-28T12:33:18.895843400Z"
    }
   },
   "outputs": [
    {
     "data": {
      "text/plain": "SVC(C=1000, kernel='linear', tol=0.0001)",
      "text/html": "<style>#sk-container-id-1 {color: black;}#sk-container-id-1 pre{padding: 0;}#sk-container-id-1 div.sk-toggleable {background-color: white;}#sk-container-id-1 label.sk-toggleable__label {cursor: pointer;display: block;width: 100%;margin-bottom: 0;padding: 0.3em;box-sizing: border-box;text-align: center;}#sk-container-id-1 label.sk-toggleable__label-arrow:before {content: \"▸\";float: left;margin-right: 0.25em;color: #696969;}#sk-container-id-1 label.sk-toggleable__label-arrow:hover:before {color: black;}#sk-container-id-1 div.sk-estimator:hover label.sk-toggleable__label-arrow:before {color: black;}#sk-container-id-1 div.sk-toggleable__content {max-height: 0;max-width: 0;overflow: hidden;text-align: left;background-color: #f0f8ff;}#sk-container-id-1 div.sk-toggleable__content pre {margin: 0.2em;color: black;border-radius: 0.25em;background-color: #f0f8ff;}#sk-container-id-1 input.sk-toggleable__control:checked~div.sk-toggleable__content {max-height: 200px;max-width: 100%;overflow: auto;}#sk-container-id-1 input.sk-toggleable__control:checked~label.sk-toggleable__label-arrow:before {content: \"▾\";}#sk-container-id-1 div.sk-estimator input.sk-toggleable__control:checked~label.sk-toggleable__label {background-color: #d4ebff;}#sk-container-id-1 div.sk-label input.sk-toggleable__control:checked~label.sk-toggleable__label {background-color: #d4ebff;}#sk-container-id-1 input.sk-hidden--visually {border: 0;clip: rect(1px 1px 1px 1px);clip: rect(1px, 1px, 1px, 1px);height: 1px;margin: -1px;overflow: hidden;padding: 0;position: absolute;width: 1px;}#sk-container-id-1 div.sk-estimator {font-family: monospace;background-color: #f0f8ff;border: 1px dotted black;border-radius: 0.25em;box-sizing: border-box;margin-bottom: 0.5em;}#sk-container-id-1 div.sk-estimator:hover {background-color: #d4ebff;}#sk-container-id-1 div.sk-parallel-item::after {content: \"\";width: 100%;border-bottom: 1px solid gray;flex-grow: 1;}#sk-container-id-1 div.sk-label:hover label.sk-toggleable__label {background-color: #d4ebff;}#sk-container-id-1 div.sk-serial::before {content: \"\";position: absolute;border-left: 1px solid gray;box-sizing: border-box;top: 0;bottom: 0;left: 50%;z-index: 0;}#sk-container-id-1 div.sk-serial {display: flex;flex-direction: column;align-items: center;background-color: white;padding-right: 0.2em;padding-left: 0.2em;position: relative;}#sk-container-id-1 div.sk-item {position: relative;z-index: 1;}#sk-container-id-1 div.sk-parallel {display: flex;align-items: stretch;justify-content: center;background-color: white;position: relative;}#sk-container-id-1 div.sk-item::before, #sk-container-id-1 div.sk-parallel-item::before {content: \"\";position: absolute;border-left: 1px solid gray;box-sizing: border-box;top: 0;bottom: 0;left: 50%;z-index: -1;}#sk-container-id-1 div.sk-parallel-item {display: flex;flex-direction: column;z-index: 1;position: relative;background-color: white;}#sk-container-id-1 div.sk-parallel-item:first-child::after {align-self: flex-end;width: 50%;}#sk-container-id-1 div.sk-parallel-item:last-child::after {align-self: flex-start;width: 50%;}#sk-container-id-1 div.sk-parallel-item:only-child::after {width: 0;}#sk-container-id-1 div.sk-dashed-wrapped {border: 1px dashed gray;margin: 0 0.4em 0.5em 0.4em;box-sizing: border-box;padding-bottom: 0.4em;background-color: white;}#sk-container-id-1 div.sk-label label {font-family: monospace;font-weight: bold;display: inline-block;line-height: 1.2em;}#sk-container-id-1 div.sk-label-container {text-align: center;}#sk-container-id-1 div.sk-container {/* jupyter's `normalize.less` sets `[hidden] { display: none; }` but bootstrap.min.css set `[hidden] { display: none !important; }` so we also need the `!important` here to be able to override the default hidden behavior on the sphinx rendered scikit-learn.org. See: https://github.com/scikit-learn/scikit-learn/issues/21755 */display: inline-block !important;position: relative;}#sk-container-id-1 div.sk-text-repr-fallback {display: none;}</style><div id=\"sk-container-id-1\" class=\"sk-top-container\"><div class=\"sk-text-repr-fallback\"><pre>SVC(C=1000, kernel=&#x27;linear&#x27;, tol=0.0001)</pre><b>In a Jupyter environment, please rerun this cell to show the HTML representation or trust the notebook. <br />On GitHub, the HTML representation is unable to render, please try loading this page with nbviewer.org.</b></div><div class=\"sk-container\" hidden><div class=\"sk-item\"><div class=\"sk-estimator sk-toggleable\"><input class=\"sk-toggleable__control sk-hidden--visually\" id=\"sk-estimator-id-1\" type=\"checkbox\" checked><label for=\"sk-estimator-id-1\" class=\"sk-toggleable__label sk-toggleable__label-arrow\">SVC</label><div class=\"sk-toggleable__content\"><pre>SVC(C=1000, kernel=&#x27;linear&#x27;, tol=0.0001)</pre></div></div></div></div></div>"
     },
     "execution_count": 4,
     "metadata": {},
     "output_type": "execute_result"
    }
   ],
   "source": [
    "model = svm.SVC(kernel='linear', C=1000, tol=0.0001)  # initialize the model\n",
    "model.fit(X, y)  # fit the model = learn the decision boundaries"
   ]
  },
  {
   "cell_type": "markdown",
   "id": "42cbd32e-a9d9-408e-b647-2be8e3eae63f",
   "metadata": {
    "id": "42cbd32e-a9d9-408e-b647-2be8e3eae63f"
   },
   "source": [
    "When the optimisation has completed, you can access the parameters of the separating hyperplane. The vector $\\mathbf{w}$:"
   ]
  },
  {
   "cell_type": "code",
   "execution_count": null,
   "id": "7420afd1-bfd8-47fa-b306-c898658a1498",
   "metadata": {
    "tags": [],
    "id": "7420afd1-bfd8-47fa-b306-c898658a1498"
   },
   "outputs": [],
   "source": [
    "model.coef_"
   ]
  },
  {
   "cell_type": "markdown",
   "id": "63cf71dc-a753-4784-92f9-f52f2e5638f9",
   "metadata": {
    "id": "63cf71dc-a753-4784-92f9-f52f2e5638f9"
   },
   "source": [
    "The $b$:"
   ]
  },
  {
   "cell_type": "code",
   "execution_count": null,
   "id": "bc71041a-b432-4cb3-8057-e46dcf305938",
   "metadata": {
    "tags": [],
    "id": "bc71041a-b432-4cb3-8057-e46dcf305938"
   },
   "outputs": [],
   "source": [
    "model.intercept_"
   ]
  },
  {
   "cell_type": "markdown",
   "id": "ea9af3db-c843-422c-ba5a-875d719ad9a0",
   "metadata": {
    "tags": [],
    "id": "ea9af3db-c843-422c-ba5a-875d719ad9a0"
   },
   "source": [
    "The indices of the support vectors:"
   ]
  },
  {
   "cell_type": "code",
   "execution_count": null,
   "id": "9fa4d49b-f42b-4de2-9e54-1ae516a5a495",
   "metadata": {
    "tags": [],
    "id": "9fa4d49b-f42b-4de2-9e54-1ae516a5a495"
   },
   "outputs": [],
   "source": [
    "model.support_"
   ]
  },
  {
   "cell_type": "markdown",
   "id": "728a5bd2-239a-43dc-ba2a-ab8df28f836b",
   "metadata": {
    "id": "728a5bd2-239a-43dc-ba2a-ab8df28f836b"
   },
   "source": [
    "So you can slice $\\mathbf{X}$ for the corresponding coordinates"
   ]
  },
  {
   "cell_type": "code",
   "execution_count": null,
   "id": "bbeef760-10a1-406d-bd6c-e31742857bac",
   "metadata": {
    "tags": [],
    "id": "bbeef760-10a1-406d-bd6c-e31742857bac"
   },
   "outputs": [],
   "source": [
    "X[model.support_]"
   ]
  },
  {
   "cell_type": "markdown",
   "id": "4b49c5f7-a206-4543-894a-adaf0dd3bb6c",
   "metadata": {
    "id": "4b49c5f7-a206-4543-894a-adaf0dd3bb6c"
   },
   "source": [
    "or get them directly:"
   ]
  },
  {
   "cell_type": "code",
   "execution_count": null,
   "id": "ab2de8e6-e43e-4bbd-9c6e-906b980b5672",
   "metadata": {
    "tags": [],
    "id": "ab2de8e6-e43e-4bbd-9c6e-906b980b5672"
   },
   "outputs": [],
   "source": [
    "model.support_vectors_"
   ]
  },
  {
   "cell_type": "markdown",
   "id": "f5e64571-5b2a-4d7f-8889-0d5864c0f577",
   "metadata": {
    "id": "f5e64571-5b2a-4d7f-8889-0d5864c0f577"
   },
   "source": [
    "**Task 1A** Calculate $y^{(m)}\\left(b+w^Tx^{(m)}\\right)$ for every support vector. Please explain whether the result complies with your expectation and why?"
   ]
  },
  {
   "cell_type": "code",
   "execution_count": null,
   "id": "c47e38b2-41a0-4d58-b42d-0b7050efa0e0",
   "metadata": {
    "id": "c47e38b2-41a0-4d58-b42d-0b7050efa0e0"
   },
   "outputs": [],
   "source": [
    "mag = []\n",
    "for idx in model.support_:\n",
    "    mag.append(y[idx] * (model.intercept_ + model.coef_ @ X[idx].T)[0])\n",
    "\n",
    "print(mag)\n",
    "print([y[idx] for idx in model.support_])"
   ]
  },
  {
   "cell_type": "markdown",
   "id": "d41b1d9d-e221-4765-8611-571f47084ad0",
   "metadata": {
    "id": "d41b1d9d-e221-4765-8611-571f47084ad0"
   },
   "source": [
    "## 📢 **HAND-IN** 📢: Report the calculated values and your explanation from Task 1A in Moodle"
   ]
  },
  {
   "cell_type": "code",
   "execution_count": null,
   "id": "0d3f2bea-d4d2-4888-b4a6-1492e3405988",
   "metadata": {
    "id": "0d3f2bea-d4d2-4888-b4a6-1492e3405988"
   },
   "outputs": [],
   "source": [
    "model.predict(X)"
   ]
  },
  {
   "cell_type": "markdown",
   "id": "7d69fc08-0000-4819-ab8d-9e9dcc8de9c8",
   "metadata": {
    "id": "7d69fc08-0000-4819-ab8d-9e9dcc8de9c8"
   },
   "source": [
    "**Task 1B** Calculate the distance from the decision boundary to the support vectors, i.e. the width of the margin"
   ]
  },
  {
   "cell_type": "code",
   "execution_count": 23,
   "id": "3531a93f-2dc5-4674-847d-c5ac720e1230",
   "metadata": {
    "id": "3531a93f-2dc5-4674-847d-c5ac720e1230",
    "ExecuteTime": {
     "end_time": "2023-10-28T13:01:04.472198100Z",
     "start_time": "2023-10-28T13:01:04.449873300Z"
    }
   },
   "outputs": [
    {
     "name": "stdout",
     "output_type": "stream",
     "text": [
      "[0.6982785929127897, 0.6983159002870749, 0.6982912572052506]\n"
     ]
    }
   ],
   "source": [
    "mag = []\n",
    "w_sig = np.linalg.norm(model.coef_)\n",
    "for idx in model.support_:\n",
    "    mag.append(y[idx] / w_sig * (model.intercept_ + model.coef_ @ X[idx].T)[0])\n",
    "\n",
    "print(mag)"
   ]
  },
  {
   "cell_type": "markdown",
   "id": "bcb821b4-551a-4c46-81bc-246295ef43e1",
   "metadata": {
    "id": "bcb821b4-551a-4c46-81bc-246295ef43e1"
   },
   "source": [
    "## 📢 **HAND-IN** 📢: Report the width of the margin calculated in Task 1B in Moodle"
   ]
  },
  {
   "cell_type": "code",
   "execution_count": null,
   "id": "5e84d30a-0a8f-402f-8dbf-64aaafa91402",
   "metadata": {
    "id": "5e84d30a-0a8f-402f-8dbf-64aaafa91402"
   },
   "outputs": [],
   "source": []
  },
  {
   "cell_type": "markdown",
   "id": "515a6183-5ee3-454f-8430-7bf3a1ff119f",
   "metadata": {
    "id": "515a6183-5ee3-454f-8430-7bf3a1ff119f"
   },
   "source": [
    "**Task 1C** Generate a scatterplot with the data $X$, the decision boundary and the gutters like in\n",
    "https://github.zhaw.ch/pages/doem/mldm_book/06_svm.html#fig-max-margin\n",
    "using the optimised parameters `model.interecept_` and `model.coef_[0]`"
   ]
  },
  {
   "cell_type": "markdown",
   "id": "cd6e8cb6-d84f-4c15-8ec7-b85b5de660e7",
   "metadata": {
    "id": "cd6e8cb6-d84f-4c15-8ec7-b85b5de660e7"
   },
   "source": [
    "## 📢 **HAND-IN** 📢: Upload an image-file of the plot from task 1C in Moodle"
   ]
  },
  {
   "cell_type": "code",
   "execution_count": 14,
   "outputs": [],
   "source": [
    "def plot_scatter():\n",
    "    from sklearn.inspection import DecisionBoundaryDisplay\n",
    "\n",
    "    plt.scatter(X[:, 0], X[:, 1], c=y, s=30, cmap=plt.cm.Paired)\n",
    "\n",
    "    # plot the decision function\n",
    "    ax = plt.gca()\n",
    "    DecisionBoundaryDisplay.from_estimator(\n",
    "        model,\n",
    "        X,\n",
    "        plot_method=\"contour\",\n",
    "        colors=\"k\",\n",
    "        levels=[-1, 0, 1],\n",
    "        alpha=0.5,\n",
    "        linestyles=[\"--\", \"-\", \"--\"],\n",
    "        ax=ax,\n",
    "    )\n",
    "    # plot support vectors\n",
    "    ax.scatter(\n",
    "        model.support_vectors_[:, 0],\n",
    "        model.support_vectors_[:, 1],\n",
    "        s=100,\n",
    "        linewidth=1,\n",
    "        facecolors=\"none\",\n",
    "        edgecolors=\"k\",\n",
    "    )"
   ],
   "metadata": {
    "collapsed": false,
    "ExecuteTime": {
     "end_time": "2023-10-28T12:49:29.870386400Z",
     "start_time": "2023-10-28T12:49:29.838617500Z"
    }
   },
   "id": "603f822ee45df204"
  },
  {
   "cell_type": "code",
   "execution_count": 29,
   "outputs": [
    {
     "data": {
      "text/plain": "<Figure size 640x480 with 1 Axes>",
      "image/svg+xml": "<?xml version=\"1.0\" encoding=\"utf-8\" standalone=\"no\"?>\n<!DOCTYPE svg PUBLIC \"-//W3C//DTD SVG 1.1//EN\"\n  \"http://www.w3.org/Graphics/SVG/1.1/DTD/svg11.dtd\">\n<svg xmlns:xlink=\"http://www.w3.org/1999/xlink\" width=\"389.921562pt\" height=\"296.657312pt\" viewBox=\"0 0 389.921562 296.657312\" xmlns=\"http://www.w3.org/2000/svg\" version=\"1.1\">\n <metadata>\n  <rdf:RDF xmlns:dc=\"http://purl.org/dc/elements/1.1/\" xmlns:cc=\"http://creativecommons.org/ns#\" xmlns:rdf=\"http://www.w3.org/1999/02/22-rdf-syntax-ns#\">\n   <cc:Work>\n    <dc:type rdf:resource=\"http://purl.org/dc/dcmitype/StillImage\"/>\n    <dc:date>2023-10-28T15:14:50.587408</dc:date>\n    <dc:format>image/svg+xml</dc:format>\n    <dc:creator>\n     <cc:Agent>\n      <dc:title>Matplotlib v3.8.0, https://matplotlib.org/</dc:title>\n     </cc:Agent>\n    </dc:creator>\n   </cc:Work>\n  </rdf:RDF>\n </metadata>\n <defs>\n  <style type=\"text/css\">*{stroke-linejoin: round; stroke-linecap: butt}</style>\n </defs>\n <g id=\"figure_1\">\n  <g id=\"patch_1\">\n   <path d=\"M 0 296.657312 \nL 389.921562 296.657312 \nL 389.921562 0 \nL 0 0 \nz\n\" style=\"fill: #ffffff\"/>\n  </g>\n  <g id=\"axes_1\">\n   <g id=\"patch_2\">\n    <path d=\"M 25.601563 273.312 \nL 382.721563 273.312 \nL 382.721563 7.2 \nL 25.601563 7.2 \nz\n\" style=\"fill: #eaeaf2\"/>\n   </g>\n   <g id=\"matplotlib.axis_1\">\n    <g id=\"xtick_1\">\n     <g id=\"line2d_1\">\n      <path d=\"M 60.159943 273.312 \nL 60.159943 7.2 \n\" clip-path=\"url(#pf3f91d0c56)\" style=\"fill: none; stroke: #ffffff; stroke-width: 0.8; stroke-linecap: round\"/>\n     </g>\n     <g id=\"text_1\">\n      <!-- −1 -->\n      <g style=\"fill: #262626\" transform=\"translate(54.459162 287.469812) scale(0.1 -0.1)\">\n       <defs>\n        <path id=\"ArialMT-2212\" d=\"M 3381 1997 \nL 356 1997 \nL 356 2522 \nL 3381 2522 \nL 3381 1997 \nz\n\" transform=\"scale(0.015625)\"/>\n        <path id=\"ArialMT-31\" d=\"M 2384 0 \nL 1822 0 \nL 1822 3584 \nQ 1619 3391 1289 3197 \nQ 959 3003 697 2906 \nL 697 3450 \nQ 1169 3672 1522 3987 \nQ 1875 4303 2022 4600 \nL 2384 4600 \nL 2384 0 \nz\n\" transform=\"scale(0.015625)\"/>\n       </defs>\n       <use xlink:href=\"#ArialMT-2212\"/>\n       <use xlink:href=\"#ArialMT-31\" x=\"58.398438\"/>\n      </g>\n     </g>\n    </g>\n    <g id=\"xtick_2\">\n     <g id=\"line2d_2\">\n      <path d=\"M 122.368582 273.312 \nL 122.368582 7.2 \n\" clip-path=\"url(#pf3f91d0c56)\" style=\"fill: none; stroke: #ffffff; stroke-width: 0.8; stroke-linecap: round\"/>\n     </g>\n     <g id=\"text_2\">\n      <!-- 0 -->\n      <g style=\"fill: #262626\" transform=\"translate(119.588113 287.469812) scale(0.1 -0.1)\">\n       <defs>\n        <path id=\"ArialMT-30\" d=\"M 266 2259 \nQ 266 3072 433 3567 \nQ 600 4063 929 4331 \nQ 1259 4600 1759 4600 \nQ 2128 4600 2406 4451 \nQ 2684 4303 2865 4023 \nQ 3047 3744 3150 3342 \nQ 3253 2941 3253 2259 \nQ 3253 1453 3087 958 \nQ 2922 463 2592 192 \nQ 2263 -78 1759 -78 \nQ 1097 -78 719 397 \nQ 266 969 266 2259 \nz\nM 844 2259 \nQ 844 1131 1108 757 \nQ 1372 384 1759 384 \nQ 2147 384 2411 759 \nQ 2675 1134 2675 2259 \nQ 2675 3391 2411 3762 \nQ 2147 4134 1753 4134 \nQ 1366 4134 1134 3806 \nQ 844 3388 844 2259 \nz\n\" transform=\"scale(0.015625)\"/>\n       </defs>\n       <use xlink:href=\"#ArialMT-30\"/>\n      </g>\n     </g>\n    </g>\n    <g id=\"xtick_3\">\n     <g id=\"line2d_3\">\n      <path d=\"M 184.577221 273.312 \nL 184.577221 7.2 \n\" clip-path=\"url(#pf3f91d0c56)\" style=\"fill: none; stroke: #ffffff; stroke-width: 0.8; stroke-linecap: round\"/>\n     </g>\n     <g id=\"text_3\">\n      <!-- 1 -->\n      <g style=\"fill: #262626\" transform=\"translate(181.796753 287.469812) scale(0.1 -0.1)\">\n       <use xlink:href=\"#ArialMT-31\"/>\n      </g>\n     </g>\n    </g>\n    <g id=\"xtick_4\">\n     <g id=\"line2d_4\">\n      <path d=\"M 246.785861 273.312 \nL 246.785861 7.2 \n\" clip-path=\"url(#pf3f91d0c56)\" style=\"fill: none; stroke: #ffffff; stroke-width: 0.8; stroke-linecap: round\"/>\n     </g>\n     <g id=\"text_4\">\n      <!-- 2 -->\n      <g style=\"fill: #262626\" transform=\"translate(244.005392 287.469812) scale(0.1 -0.1)\">\n       <defs>\n        <path id=\"ArialMT-32\" d=\"M 3222 541 \nL 3222 0 \nL 194 0 \nQ 188 203 259 391 \nQ 375 700 629 1000 \nQ 884 1300 1366 1694 \nQ 2113 2306 2375 2664 \nQ 2638 3022 2638 3341 \nQ 2638 3675 2398 3904 \nQ 2159 4134 1775 4134 \nQ 1369 4134 1125 3890 \nQ 881 3647 878 3216 \nL 300 3275 \nQ 359 3922 746 4261 \nQ 1134 4600 1788 4600 \nQ 2447 4600 2831 4234 \nQ 3216 3869 3216 3328 \nQ 3216 3053 3103 2787 \nQ 2991 2522 2730 2228 \nQ 2469 1934 1863 1422 \nQ 1356 997 1212 845 \nQ 1069 694 975 541 \nL 3222 541 \nz\n\" transform=\"scale(0.015625)\"/>\n       </defs>\n       <use xlink:href=\"#ArialMT-32\"/>\n      </g>\n     </g>\n    </g>\n    <g id=\"xtick_5\">\n     <g id=\"line2d_5\">\n      <path d=\"M 308.9945 273.312 \nL 308.9945 7.2 \n\" clip-path=\"url(#pf3f91d0c56)\" style=\"fill: none; stroke: #ffffff; stroke-width: 0.8; stroke-linecap: round\"/>\n     </g>\n     <g id=\"text_5\">\n      <!-- 3 -->\n      <g style=\"fill: #262626\" transform=\"translate(306.214031 287.469812) scale(0.1 -0.1)\">\n       <defs>\n        <path id=\"ArialMT-33\" d=\"M 269 1209 \nL 831 1284 \nQ 928 806 1161 595 \nQ 1394 384 1728 384 \nQ 2125 384 2398 659 \nQ 2672 934 2672 1341 \nQ 2672 1728 2419 1979 \nQ 2166 2231 1775 2231 \nQ 1616 2231 1378 2169 \nL 1441 2663 \nQ 1497 2656 1531 2656 \nQ 1891 2656 2178 2843 \nQ 2466 3031 2466 3422 \nQ 2466 3731 2256 3934 \nQ 2047 4138 1716 4138 \nQ 1388 4138 1169 3931 \nQ 950 3725 888 3313 \nL 325 3413 \nQ 428 3978 793 4289 \nQ 1159 4600 1703 4600 \nQ 2078 4600 2393 4439 \nQ 2709 4278 2876 4000 \nQ 3044 3722 3044 3409 \nQ 3044 3113 2884 2869 \nQ 2725 2625 2413 2481 \nQ 2819 2388 3044 2092 \nQ 3269 1797 3269 1353 \nQ 3269 753 2831 336 \nQ 2394 -81 1725 -81 \nQ 1122 -81 723 278 \nQ 325 638 269 1209 \nz\n\" transform=\"scale(0.015625)\"/>\n       </defs>\n       <use xlink:href=\"#ArialMT-33\"/>\n      </g>\n     </g>\n    </g>\n    <g id=\"xtick_6\">\n     <g id=\"line2d_6\">\n      <path d=\"M 371.203139 273.312 \nL 371.203139 7.2 \n\" clip-path=\"url(#pf3f91d0c56)\" style=\"fill: none; stroke: #ffffff; stroke-width: 0.8; stroke-linecap: round\"/>\n     </g>\n     <g id=\"text_6\">\n      <!-- 4 -->\n      <g style=\"fill: #262626\" transform=\"translate(368.42267 287.469812) scale(0.1 -0.1)\">\n       <defs>\n        <path id=\"ArialMT-34\" d=\"M 2069 0 \nL 2069 1097 \nL 81 1097 \nL 81 1613 \nL 2172 4581 \nL 2631 4581 \nL 2631 1613 \nL 3250 1613 \nL 3250 1097 \nL 2631 1097 \nL 2631 0 \nL 2069 0 \nz\nM 2069 1613 \nL 2069 3678 \nL 634 1613 \nL 2069 1613 \nz\n\" transform=\"scale(0.015625)\"/>\n       </defs>\n       <use xlink:href=\"#ArialMT-34\"/>\n      </g>\n     </g>\n    </g>\n   </g>\n   <g id=\"matplotlib.axis_2\">\n    <g id=\"ytick_1\">\n     <g id=\"line2d_7\">\n      <path d=\"M 25.601563 268.484109 \nL 382.721563 268.484109 \n\" clip-path=\"url(#pf3f91d0c56)\" style=\"fill: none; stroke: #ffffff; stroke-width: 0.8; stroke-linecap: round\"/>\n     </g>\n     <g id=\"text_7\">\n      <!-- −1 -->\n      <g style=\"fill: #262626\" transform=\"translate(7.2 272.063015) scale(0.1 -0.1)\">\n       <use xlink:href=\"#ArialMT-2212\"/>\n       <use xlink:href=\"#ArialMT-31\" x=\"58.398438\"/>\n      </g>\n     </g>\n    </g>\n    <g id=\"ytick_2\">\n     <g id=\"line2d_8\">\n      <path d=\"M 25.601563 233.526218 \nL 382.721563 233.526218 \n\" clip-path=\"url(#pf3f91d0c56)\" style=\"fill: none; stroke: #ffffff; stroke-width: 0.8; stroke-linecap: round\"/>\n     </g>\n     <g id=\"text_8\">\n      <!-- 0 -->\n      <g style=\"fill: #262626\" transform=\"translate(13.040625 237.105124) scale(0.1 -0.1)\">\n       <use xlink:href=\"#ArialMT-30\"/>\n      </g>\n     </g>\n    </g>\n    <g id=\"ytick_3\">\n     <g id=\"line2d_9\">\n      <path d=\"M 25.601563 198.568326 \nL 382.721563 198.568326 \n\" clip-path=\"url(#pf3f91d0c56)\" style=\"fill: none; stroke: #ffffff; stroke-width: 0.8; stroke-linecap: round\"/>\n     </g>\n     <g id=\"text_9\">\n      <!-- 1 -->\n      <g style=\"fill: #262626\" transform=\"translate(13.040625 202.147233) scale(0.1 -0.1)\">\n       <use xlink:href=\"#ArialMT-31\"/>\n      </g>\n     </g>\n    </g>\n    <g id=\"ytick_4\">\n     <g id=\"line2d_10\">\n      <path d=\"M 25.601563 163.610435 \nL 382.721563 163.610435 \n\" clip-path=\"url(#pf3f91d0c56)\" style=\"fill: none; stroke: #ffffff; stroke-width: 0.8; stroke-linecap: round\"/>\n     </g>\n     <g id=\"text_10\">\n      <!-- 2 -->\n      <g style=\"fill: #262626\" transform=\"translate(13.040625 167.189341) scale(0.1 -0.1)\">\n       <use xlink:href=\"#ArialMT-32\"/>\n      </g>\n     </g>\n    </g>\n    <g id=\"ytick_5\">\n     <g id=\"line2d_11\">\n      <path d=\"M 25.601563 128.652544 \nL 382.721563 128.652544 \n\" clip-path=\"url(#pf3f91d0c56)\" style=\"fill: none; stroke: #ffffff; stroke-width: 0.8; stroke-linecap: round\"/>\n     </g>\n     <g id=\"text_11\">\n      <!-- 3 -->\n      <g style=\"fill: #262626\" transform=\"translate(13.040625 132.23145) scale(0.1 -0.1)\">\n       <use xlink:href=\"#ArialMT-33\"/>\n      </g>\n     </g>\n    </g>\n    <g id=\"ytick_6\">\n     <g id=\"line2d_12\">\n      <path d=\"M 25.601563 93.694652 \nL 382.721563 93.694652 \n\" clip-path=\"url(#pf3f91d0c56)\" style=\"fill: none; stroke: #ffffff; stroke-width: 0.8; stroke-linecap: round\"/>\n     </g>\n     <g id=\"text_12\">\n      <!-- 4 -->\n      <g style=\"fill: #262626\" transform=\"translate(13.040625 97.273559) scale(0.1 -0.1)\">\n       <use xlink:href=\"#ArialMT-34\"/>\n      </g>\n     </g>\n    </g>\n    <g id=\"ytick_7\">\n     <g id=\"line2d_13\">\n      <path d=\"M 25.601563 58.736761 \nL 382.721563 58.736761 \n\" clip-path=\"url(#pf3f91d0c56)\" style=\"fill: none; stroke: #ffffff; stroke-width: 0.8; stroke-linecap: round\"/>\n     </g>\n     <g id=\"text_13\">\n      <!-- 5 -->\n      <g style=\"fill: #262626\" transform=\"translate(13.040625 62.315667) scale(0.1 -0.1)\">\n       <defs>\n        <path id=\"ArialMT-35\" d=\"M 266 1200 \nL 856 1250 \nQ 922 819 1161 601 \nQ 1400 384 1738 384 \nQ 2144 384 2425 690 \nQ 2706 997 2706 1503 \nQ 2706 1984 2436 2262 \nQ 2166 2541 1728 2541 \nQ 1456 2541 1237 2417 \nQ 1019 2294 894 2097 \nL 366 2166 \nL 809 4519 \nL 3088 4519 \nL 3088 3981 \nL 1259 3981 \nL 1013 2750 \nQ 1425 3038 1878 3038 \nQ 2478 3038 2890 2622 \nQ 3303 2206 3303 1553 \nQ 3303 931 2941 478 \nQ 2500 -78 1738 -78 \nQ 1113 -78 717 272 \nQ 322 622 266 1200 \nz\n\" transform=\"scale(0.015625)\"/>\n       </defs>\n       <use xlink:href=\"#ArialMT-35\"/>\n      </g>\n     </g>\n    </g>\n    <g id=\"ytick_8\">\n     <g id=\"line2d_14\">\n      <path d=\"M 25.601563 23.77887 \nL 382.721563 23.77887 \n\" clip-path=\"url(#pf3f91d0c56)\" style=\"fill: none; stroke: #ffffff; stroke-width: 0.8; stroke-linecap: round\"/>\n     </g>\n     <g id=\"text_14\">\n      <!-- 6 -->\n      <g style=\"fill: #262626\" transform=\"translate(13.040625 27.357776) scale(0.1 -0.1)\">\n       <defs>\n        <path id=\"ArialMT-36\" d=\"M 3184 3459 \nL 2625 3416 \nQ 2550 3747 2413 3897 \nQ 2184 4138 1850 4138 \nQ 1581 4138 1378 3988 \nQ 1113 3794 959 3422 \nQ 806 3050 800 2363 \nQ 1003 2672 1297 2822 \nQ 1591 2972 1913 2972 \nQ 2475 2972 2870 2558 \nQ 3266 2144 3266 1488 \nQ 3266 1056 3080 686 \nQ 2894 316 2569 119 \nQ 2244 -78 1831 -78 \nQ 1128 -78 684 439 \nQ 241 956 241 2144 \nQ 241 3472 731 4075 \nQ 1159 4600 1884 4600 \nQ 2425 4600 2770 4297 \nQ 3116 3994 3184 3459 \nz\nM 888 1484 \nQ 888 1194 1011 928 \nQ 1134 663 1356 523 \nQ 1578 384 1822 384 \nQ 2178 384 2434 671 \nQ 2691 959 2691 1453 \nQ 2691 1928 2437 2201 \nQ 2184 2475 1800 2475 \nQ 1419 2475 1153 2201 \nQ 888 1928 888 1484 \nz\n\" transform=\"scale(0.015625)\"/>\n       </defs>\n       <use xlink:href=\"#ArialMT-36\"/>\n      </g>\n     </g>\n    </g>\n   </g>\n   <g id=\"PathCollection_1\">\n    <defs>\n     <path id=\"C0_0_d17baf836e\" d=\"M 0 2.738613 \nC 0.726289 2.738613 1.422928 2.450055 1.936492 1.936492 \nC 2.450055 1.422928 2.738613 0.726289 2.738613 -0 \nC 2.738613 -0.726289 2.450055 -1.422928 1.936492 -1.936492 \nC 1.422928 -2.450055 0.726289 -2.738613 0 -2.738613 \nC -0.726289 -2.738613 -1.422928 -2.450055 -1.936492 -1.936492 \nC -2.450055 -1.422928 -2.738613 -0.726289 -2.738613 0 \nC -2.738613 0.726289 -2.450055 1.422928 -1.936492 1.936492 \nC -1.422928 2.450055 -0.726289 2.738613 0 2.738613 \nz\n\"/>\n    </defs>\n    <g clip-path=\"url(#pf3f91d0c56)\">\n     <use xlink:href=\"#C0_0_d17baf836e\" x=\"210.25794\" y=\"180.028944\" style=\"fill: #b15928; stroke: #b15928\"/>\n    </g>\n    <g clip-path=\"url(#pf3f91d0c56)\">\n     <use xlink:href=\"#C0_0_d17baf836e\" x=\"235.175324\" y=\"176.505328\" style=\"fill: #b15928; stroke: #b15928\"/>\n    </g>\n    <g clip-path=\"url(#pf3f91d0c56)\">\n     <use xlink:href=\"#C0_0_d17baf836e\" x=\"211.506888\" y=\"80.522787\" style=\"fill: #a6cee3; stroke: #a6cee3\"/>\n    </g>\n    <g clip-path=\"url(#pf3f91d0c56)\">\n     <use xlink:href=\"#C0_0_d17baf836e\" x=\"238.867791\" y=\"87.378028\" style=\"fill: #a6cee3; stroke: #a6cee3\"/>\n    </g>\n    <g clip-path=\"url(#pf3f91d0c56)\">\n     <use xlink:href=\"#C0_0_d17baf836e\" x=\"252.706745\" y=\"195.801521\" style=\"fill: #b15928; stroke: #b15928\"/>\n    </g>\n    <g clip-path=\"url(#pf3f91d0c56)\">\n     <use xlink:href=\"#C0_0_d17baf836e\" x=\"292.752318\" y=\"228.045933\" style=\"fill: #b15928; stroke: #b15928\"/>\n    </g>\n    <g clip-path=\"url(#pf3f91d0c56)\">\n     <use xlink:href=\"#C0_0_d17baf836e\" x=\"320.512923\" y=\"230.414678\" style=\"fill: #b15928; stroke: #b15928\"/>\n    </g>\n    <g clip-path=\"url(#pf3f91d0c56)\">\n     <use xlink:href=\"#C0_0_d17baf836e\" x=\"250.615893\" y=\"164.687629\" style=\"fill: #b15928; stroke: #b15928\"/>\n    </g>\n    <g clip-path=\"url(#pf3f91d0c56)\">\n     <use xlink:href=\"#C0_0_d17baf836e\" x=\"249.172071\" y=\"193.161642\" style=\"fill: #b15928; stroke: #b15928\"/>\n    </g>\n    <g clip-path=\"url(#pf3f91d0c56)\">\n     <use xlink:href=\"#C0_0_d17baf836e\" x=\"119.414167\" y=\"42.157891\" style=\"fill: #a6cee3; stroke: #a6cee3\"/>\n    </g>\n    <g clip-path=\"url(#pf3f91d0c56)\">\n     <use xlink:href=\"#C0_0_d17baf836e\" x=\"229.021841\" y=\"57.855289\" style=\"fill: #a6cee3; stroke: #a6cee3\"/>\n    </g>\n    <g clip-path=\"url(#pf3f91d0c56)\">\n     <use xlink:href=\"#C0_0_d17baf836e\" x=\"136.340198\" y=\"66.767234\" style=\"fill: #a6cee3; stroke: #a6cee3\"/>\n    </g>\n    <g clip-path=\"url(#pf3f91d0c56)\">\n     <use xlink:href=\"#C0_0_d17baf836e\" x=\"188.884456\" y=\"75.143029\" style=\"fill: #a6cee3; stroke: #a6cee3\"/>\n    </g>\n    <g clip-path=\"url(#pf3f91d0c56)\">\n     <use xlink:href=\"#C0_0_d17baf836e\" x=\"217.721314\" y=\"214.287007\" style=\"fill: #b15928; stroke: #b15928\"/>\n    </g>\n    <g clip-path=\"url(#pf3f91d0c56)\">\n     <use xlink:href=\"#C0_0_d17baf836e\" x=\"215.366255\" y=\"98.641602\" style=\"fill: #a6cee3; stroke: #a6cee3\"/>\n    </g>\n    <g clip-path=\"url(#pf3f91d0c56)\">\n     <use xlink:href=\"#C0_0_d17baf836e\" x=\"194.786325\" y=\"100.98932\" style=\"fill: #a6cee3; stroke: #a6cee3\"/>\n    </g>\n    <g clip-path=\"url(#pf3f91d0c56)\">\n     <use xlink:href=\"#C0_0_d17baf836e\" x=\"168.643971\" y=\"89.415608\" style=\"fill: #a6cee3; stroke: #a6cee3\"/>\n    </g>\n    <g clip-path=\"url(#pf3f91d0c56)\">\n     <use xlink:href=\"#C0_0_d17baf836e\" x=\"265.241453\" y=\"216.509499\" style=\"fill: #b15928; stroke: #b15928\"/>\n    </g>\n    <g clip-path=\"url(#pf3f91d0c56)\">\n     <use xlink:href=\"#C0_0_d17baf836e\" x=\"149.964249\" y=\"124.621568\" style=\"fill: #a6cee3; stroke: #a6cee3\"/>\n    </g>\n    <g clip-path=\"url(#pf3f91d0c56)\">\n     <use xlink:href=\"#C0_0_d17baf836e\" x=\"179.248353\" y=\"74.462693\" style=\"fill: #a6cee3; stroke: #a6cee3\"/>\n    </g>\n    <g clip-path=\"url(#pf3f91d0c56)\">\n     <use xlink:href=\"#C0_0_d17baf836e\" x=\"226.547789\" y=\"209.754189\" style=\"fill: #b15928; stroke: #b15928\"/>\n    </g>\n    <g clip-path=\"url(#pf3f91d0c56)\">\n     <use xlink:href=\"#C0_0_d17baf836e\" x=\"263.525419\" y=\"187.325604\" style=\"fill: #b15928; stroke: #b15928\"/>\n    </g>\n    <g clip-path=\"url(#pf3f91d0c56)\">\n     <use xlink:href=\"#C0_0_d17baf836e\" x=\"216.3589\" y=\"201.056248\" style=\"fill: #b15928; stroke: #b15928\"/>\n    </g>\n    <g clip-path=\"url(#pf3f91d0c56)\">\n     <use xlink:href=\"#C0_0_d17baf836e\" x=\"225.124268\" y=\"209.687321\" style=\"fill: #b15928; stroke: #b15928\"/>\n    </g>\n    <g clip-path=\"url(#pf3f91d0c56)\">\n     <use xlink:href=\"#C0_0_d17baf836e\" x=\"277.437417\" y=\"199.440407\" style=\"fill: #b15928; stroke: #b15928\"/>\n    </g>\n    <g clip-path=\"url(#pf3f91d0c56)\">\n     <use xlink:href=\"#C0_0_d17baf836e\" x=\"267.820023\" y=\"113.579822\" style=\"fill: #a6cee3; stroke: #a6cee3\"/>\n    </g>\n    <g clip-path=\"url(#pf3f91d0c56)\">\n     <use xlink:href=\"#C0_0_d17baf836e\" x=\"164.078154\" y=\"92.26338\" style=\"fill: #a6cee3; stroke: #a6cee3\"/>\n    </g>\n    <g clip-path=\"url(#pf3f91d0c56)\">\n     <use xlink:href=\"#C0_0_d17baf836e\" x=\"87.810202\" y=\"69.365411\" style=\"fill: #a6cee3; stroke: #a6cee3\"/>\n    </g>\n    <g clip-path=\"url(#pf3f91d0c56)\">\n     <use xlink:href=\"#C0_0_d17baf836e\" x=\"256.846441\" y=\"210.573037\" style=\"fill: #b15928; stroke: #b15928\"/>\n    </g>\n    <g clip-path=\"url(#pf3f91d0c56)\">\n     <use xlink:href=\"#C0_0_d17baf836e\" x=\"252.80796\" y=\"103.573032\" style=\"fill: #a6cee3; stroke: #a6cee3\"/>\n    </g>\n    <g clip-path=\"url(#pf3f91d0c56)\">\n     <use xlink:href=\"#C0_0_d17baf836e\" x=\"257.99788\" y=\"181.661044\" style=\"fill: #b15928; stroke: #b15928\"/>\n    </g>\n    <g clip-path=\"url(#pf3f91d0c56)\">\n     <use xlink:href=\"#C0_0_d17baf836e\" x=\"149.677561\" y=\"74.959711\" style=\"fill: #a6cee3; stroke: #a6cee3\"/>\n    </g>\n    <g clip-path=\"url(#pf3f91d0c56)\">\n     <use xlink:href=\"#C0_0_d17baf836e\" x=\"199.668292\" y=\"76.076157\" style=\"fill: #a6cee3; stroke: #a6cee3\"/>\n    </g>\n    <g clip-path=\"url(#pf3f91d0c56)\">\n     <use xlink:href=\"#C0_0_d17baf836e\" x=\"122.861982\" y=\"87.537059\" style=\"fill: #a6cee3; stroke: #a6cee3\"/>\n    </g>\n    <g clip-path=\"url(#pf3f91d0c56)\">\n     <use xlink:href=\"#C0_0_d17baf836e\" x=\"240.312281\" y=\"52.255477\" style=\"fill: #a6cee3; stroke: #a6cee3\"/>\n    </g>\n    <g clip-path=\"url(#pf3f91d0c56)\">\n     <use xlink:href=\"#C0_0_d17baf836e\" x=\"238.595222\" y=\"200.967736\" style=\"fill: #b15928; stroke: #b15928\"/>\n    </g>\n    <g clip-path=\"url(#pf3f91d0c56)\">\n     <use xlink:href=\"#C0_0_d17baf836e\" x=\"254.960995\" y=\"193.714169\" style=\"fill: #b15928; stroke: #b15928\"/>\n    </g>\n    <g clip-path=\"url(#pf3f91d0c56)\">\n     <use xlink:href=\"#C0_0_d17baf836e\" x=\"188.477468\" y=\"52.571887\" style=\"fill: #a6cee3; stroke: #a6cee3\"/>\n    </g>\n    <g clip-path=\"url(#pf3f91d0c56)\">\n     <use xlink:href=\"#C0_0_d17baf836e\" x=\"267.604914\" y=\"234.368093\" style=\"fill: #b15928; stroke: #b15928\"/>\n    </g>\n    <g clip-path=\"url(#pf3f91d0c56)\">\n     <use xlink:href=\"#C0_0_d17baf836e\" x=\"164.03512\" y=\"107.838335\" style=\"fill: #a6cee3; stroke: #a6cee3\"/>\n    </g>\n    <g clip-path=\"url(#pf3f91d0c56)\">\n     <use xlink:href=\"#C0_0_d17baf836e\" x=\"189.376525\" y=\"192.439054\" style=\"fill: #b15928; stroke: #b15928\"/>\n    </g>\n    <g clip-path=\"url(#pf3f91d0c56)\">\n     <use xlink:href=\"#C0_0_d17baf836e\" x=\"218.56324\" y=\"86.249565\" style=\"fill: #a6cee3; stroke: #a6cee3\"/>\n    </g>\n    <g clip-path=\"url(#pf3f91d0c56)\">\n     <use xlink:href=\"#C0_0_d17baf836e\" x=\"219.873144\" y=\"238.354109\" style=\"fill: #b15928; stroke: #b15928\"/>\n    </g>\n    <g clip-path=\"url(#pf3f91d0c56)\">\n     <use xlink:href=\"#C0_0_d17baf836e\" x=\"206.734546\" y=\"183.251192\" style=\"fill: #b15928; stroke: #b15928\"/>\n    </g>\n    <g clip-path=\"url(#pf3f91d0c56)\">\n     <use xlink:href=\"#C0_0_d17baf836e\" x=\"184.80896\" y=\"87.00102\" style=\"fill: #a6cee3; stroke: #a6cee3\"/>\n    </g>\n    <g clip-path=\"url(#pf3f91d0c56)\">\n     <use xlink:href=\"#C0_0_d17baf836e\" x=\"202.802892\" y=\"181.81295\" style=\"fill: #b15928; stroke: #b15928\"/>\n    </g>\n    <g clip-path=\"url(#pf3f91d0c56)\">\n     <use xlink:href=\"#C0_0_d17baf836e\" x=\"305.773264\" y=\"162.380016\" style=\"fill: #b15928; stroke: #b15928\"/>\n    </g>\n    <g clip-path=\"url(#pf3f91d0c56)\">\n     <use xlink:href=\"#C0_0_d17baf836e\" x=\"143.963583\" y=\"112.859388\" style=\"fill: #a6cee3; stroke: #a6cee3\"/>\n    </g>\n    <g clip-path=\"url(#pf3f91d0c56)\">\n     <use xlink:href=\"#C0_0_d17baf836e\" x=\"294.222142\" y=\"205.919665\" style=\"fill: #b15928; stroke: #b15928\"/>\n    </g>\n    <g clip-path=\"url(#pf3f91d0c56)\">\n     <use xlink:href=\"#C0_0_d17baf836e\" x=\"170.11513\" y=\"79.79551\" style=\"fill: #a6cee3; stroke: #a6cee3\"/>\n    </g>\n   </g>\n   <g id=\"PathCollection_2\">\n    <defs>\n     <path id=\"C1_0_1d8799f11c\" d=\"M 0 5 \nC 1.326016 5 2.597899 4.473168 3.535534 3.535534 \nC 4.473168 2.597899 5 1.326016 5 -0 \nC 5 -1.326016 4.473168 -2.597899 3.535534 -3.535534 \nC 2.597899 -4.473168 1.326016 -5 0 -5 \nC -1.326016 -5 -2.597899 -4.473168 -3.535534 -3.535534 \nC -4.473168 -2.597899 -5 -1.326016 -5 0 \nC -5 1.326016 -4.473168 2.597899 -3.535534 3.535534 \nC -2.597899 4.473168 -1.326016 5 0 5 \nz\n\"/>\n    </defs>\n    <g clip-path=\"url(#pf3f91d0c56)\">\n     <use xlink:href=\"#C1_0_1d8799f11c\" x=\"149.964249\" y=\"124.621568\" style=\"fill: none; stroke: #000000\"/>\n    </g>\n    <g clip-path=\"url(#pf3f91d0c56)\">\n     <use xlink:href=\"#C1_0_1d8799f11c\" x=\"267.820023\" y=\"113.579822\" style=\"fill: none; stroke: #000000\"/>\n    </g>\n    <g clip-path=\"url(#pf3f91d0c56)\">\n     <use xlink:href=\"#C1_0_1d8799f11c\" x=\"250.615893\" y=\"164.687629\" style=\"fill: none; stroke: #000000\"/>\n    </g>\n   </g>\n   <g id=\"line2d_15\">\n    <path d=\"M 149.964249 124.621568 \nL 157.107036 148.699649 \n\" clip-path=\"url(#pf3f91d0c56)\" style=\"fill: none; stroke: #1f77b4; stroke-width: 1.5; stroke-linecap: round\"/>\n   </g>\n   <g id=\"line2d_16\">\n    <path d=\"M 267.820023 113.579822 \nL 274.963192 137.659189 \n\" clip-path=\"url(#pf3f91d0c56)\" style=\"fill: none; stroke: #ff7f0e; stroke-width: 1.5; stroke-linecap: round\"/>\n   </g>\n   <g id=\"line2d_17\">\n    <path d=\"M 250.615893 164.687629 \nL 243.472976 140.609111 \n\" clip-path=\"url(#pf3f91d0c56)\" style=\"fill: none; stroke: #2ca02c; stroke-width: 1.5; stroke-linecap: round\"/>\n   </g>\n   <g id=\"QuadContourSet_1\">\n    <path d=\"M 382.721563 102.816573 \nL 379.11429 103.154493 \nL 375.507017 103.492413 \nL 371.899744 103.830333 \nL 370.430153 103.968 \nL 368.292472 104.168253 \nL 364.685199 104.506172 \nL 361.077926 104.844092 \nL 357.470653 105.182012 \nL 353.863381 105.519932 \nL 350.256108 105.857852 \nL 346.648835 106.195772 \nL 343.041562 106.533692 \nL 341.735937 106.656 \nL 339.43429 106.871612 \nL 335.827017 107.209532 \nL 332.219744 107.547452 \nL 328.612472 107.885372 \nL 325.005199 108.223292 \nL 321.397926 108.561212 \nL 317.790653 108.899132 \nL 314.183381 109.237052 \nL 313.04172 109.344 \nL 310.576108 109.574972 \nL 306.968835 109.912892 \nL 303.361562 110.250812 \nL 299.75429 110.588732 \nL 296.147017 110.926652 \nL 292.539744 111.264572 \nL 288.932472 111.602492 \nL 285.325199 111.940412 \nL 284.347504 112.032 \nL 281.717926 112.278332 \nL 278.110653 112.616252 \nL 274.503381 112.954172 \nL 270.896108 113.292092 \nL 267.288835 113.630012 \nL 263.681563 113.967932 \nL 260.07429 114.305852 \nL 256.467017 114.643772 \nL 255.653287 114.72 \nL 252.859744 114.981692 \nL 249.252472 115.319612 \nL 245.645199 115.657532 \nL 242.037926 115.995452 \nL 238.430653 116.333372 \nL 234.823381 116.671292 \nL 231.216108 117.009212 \nL 227.608835 117.347132 \nL 226.959071 117.408 \nL 224.001562 117.685052 \nL 220.39429 118.022972 \nL 216.787017 118.360892 \nL 213.179744 118.698812 \nL 209.572472 119.036732 \nL 205.965199 119.374652 \nL 202.357926 119.712572 \nL 198.750653 120.050492 \nL 198.264854 120.096 \nL 195.143381 120.388412 \nL 191.536108 120.726332 \nL 187.928835 121.064252 \nL 184.321562 121.402171 \nL 180.71429 121.740091 \nL 177.107017 122.078011 \nL 173.499744 122.415931 \nL 169.892472 122.753851 \nL 169.570637 122.784 \nL 166.285199 123.091771 \nL 162.677926 123.429691 \nL 159.070653 123.767611 \nL 155.463381 124.105531 \nL 151.856108 124.443451 \nL 148.248835 124.781371 \nL 144.641562 125.119291 \nL 141.03429 125.457211 \nL 140.876421 125.472 \nL 137.427017 125.795131 \nL 133.819744 126.133051 \nL 130.212472 126.470971 \nL 126.605199 126.808891 \nL 122.997926 127.146811 \nL 119.390653 127.484731 \nL 115.783381 127.822651 \nL 112.182204 128.16 \nL 112.176108 128.160571 \nL 108.568835 128.498491 \nL 104.961562 128.836411 \nL 101.35429 129.174331 \nL 97.747017 129.512251 \nL 94.139744 129.850171 \nL 90.532472 130.188091 \nL 86.925199 130.526011 \nL 83.487988 130.848 \nL 83.317926 130.863931 \nL 79.710653 131.201851 \nL 76.103381 131.539771 \nL 72.496108 131.877691 \nL 68.888835 132.215611 \nL 65.281562 132.553531 \nL 61.67429 132.891451 \nL 58.067017 133.229371 \nL 54.793771 133.536 \nL 54.459744 133.567291 \nL 50.852472 133.905211 \nL 47.245199 134.243131 \nL 43.637926 134.581051 \nL 40.030653 134.918971 \nL 36.423381 135.256891 \nL 32.816108 135.594811 \nL 29.208835 135.932731 \nL 26.099554 136.224 \nL 25.601562 136.270651 \n\" clip-path=\"url(#pf3f91d0c56)\" style=\"fill: none; stroke-dasharray: 5.55,2.4; stroke-dashoffset: 0; stroke: #000000; stroke-opacity: 0.5; stroke-width: 1.5\"/>\n    <path d=\"M 382.721563 127.564664 \nL 379.11429 127.902584 \nL 376.366391 128.16 \nL 375.507017 128.240504 \nL 371.899744 128.578424 \nL 368.292472 128.916344 \nL 364.685199 129.254264 \nL 361.077926 129.592184 \nL 357.470653 129.930104 \nL 353.863381 130.268024 \nL 350.256108 130.605944 \nL 347.672175 130.848 \nL 346.648835 130.943864 \nL 343.041562 131.281784 \nL 339.43429 131.619704 \nL 335.827017 131.957624 \nL 332.219744 132.295544 \nL 328.612472 132.633464 \nL 325.005199 132.971384 \nL 321.397926 133.309304 \nL 318.977958 133.536 \nL 317.790653 133.647224 \nL 314.183381 133.985144 \nL 310.576108 134.323064 \nL 306.968835 134.660984 \nL 303.361562 134.998904 \nL 299.75429 135.336824 \nL 296.147017 135.674744 \nL 292.539744 136.012663 \nL 290.283741 136.224 \nL 288.932472 136.350583 \nL 285.325199 136.688503 \nL 281.717926 137.026423 \nL 278.110653 137.364343 \nL 274.503381 137.702263 \nL 270.896108 138.040183 \nL 267.288835 138.378103 \nL 263.681563 138.716023 \nL 261.589525 138.912 \nL 260.07429 139.053943 \nL 256.467017 139.391863 \nL 252.859744 139.729783 \nL 249.252472 140.067703 \nL 245.645199 140.405623 \nL 242.037926 140.743543 \nL 238.430653 141.081463 \nL 234.823381 141.419383 \nL 232.895308 141.6 \nL 231.216108 141.757303 \nL 227.608835 142.095223 \nL 224.001562 142.433143 \nL 220.39429 142.771063 \nL 216.787017 143.108983 \nL 213.179744 143.446903 \nL 209.572472 143.784823 \nL 205.965199 144.122743 \nL 204.201092 144.288 \nL 202.357926 144.460663 \nL 198.750653 144.798583 \nL 195.143381 145.136503 \nL 191.536108 145.474423 \nL 187.928835 145.812343 \nL 184.321562 146.150263 \nL 180.71429 146.488183 \nL 177.107017 146.826103 \nL 175.506875 146.976 \nL 173.499744 147.164023 \nL 169.892472 147.501943 \nL 166.285199 147.839863 \nL 162.677926 148.177783 \nL 159.070653 148.515703 \nL 155.463381 148.853623 \nL 151.856108 149.191543 \nL 148.248835 149.529463 \nL 146.812659 149.664 \nL 144.641562 149.867383 \nL 141.03429 150.205303 \nL 137.427017 150.543223 \nL 133.819744 150.881143 \nL 130.212472 151.219063 \nL 126.605199 151.556983 \nL 122.997926 151.894903 \nL 119.390653 152.232823 \nL 118.118442 152.352 \nL 115.783381 152.570743 \nL 112.176108 152.908662 \nL 108.568835 153.246582 \nL 104.961562 153.584502 \nL 101.35429 153.922422 \nL 97.747017 154.260342 \nL 94.139744 154.598262 \nL 90.532472 154.936182 \nL 89.424225 155.04 \nL 86.925199 155.274102 \nL 83.317926 155.612022 \nL 79.710653 155.949942 \nL 76.103381 156.287862 \nL 72.496108 156.625782 \nL 68.888835 156.963702 \nL 65.281562 157.301622 \nL 61.67429 157.639542 \nL 60.730009 157.728 \nL 58.067017 157.977462 \nL 54.459744 158.315382 \nL 50.852472 158.653302 \nL 47.245199 158.991222 \nL 43.637926 159.329142 \nL 40.030653 159.667062 \nL 36.423381 160.004982 \nL 32.816108 160.342902 \nL 32.035792 160.416 \nL 29.208835 160.680822 \nL 25.601562 161.018742 \n\" clip-path=\"url(#pf3f91d0c56)\" style=\"fill: none; stroke: #000000; stroke-opacity: 0.5; stroke-width: 1.5\"/>\n    <path d=\"M 382.721563 152.312755 \nL 382.302629 152.352 \nL 379.11429 152.650675 \nL 375.507017 152.988595 \nL 371.899744 153.326515 \nL 368.292472 153.664435 \nL 364.685199 154.002355 \nL 361.077926 154.340275 \nL 357.470653 154.678195 \nL 353.863381 155.016115 \nL 353.608412 155.04 \nL 350.256108 155.354035 \nL 346.648835 155.691955 \nL 343.041562 156.029875 \nL 339.43429 156.367795 \nL 335.827017 156.705715 \nL 332.219744 157.043635 \nL 328.612472 157.381555 \nL 325.005199 157.719475 \nL 324.914196 157.728 \nL 321.397926 158.057395 \nL 317.790653 158.395315 \nL 314.183381 158.733235 \nL 310.576108 159.071155 \nL 306.968835 159.409075 \nL 303.361562 159.746995 \nL 299.75429 160.084915 \nL 296.219979 160.416 \nL 296.147017 160.422835 \nL 292.539744 160.760755 \nL 288.932472 161.098675 \nL 285.325199 161.436595 \nL 281.717926 161.774515 \nL 278.110653 162.112435 \nL 274.503381 162.450355 \nL 270.896108 162.788275 \nL 267.525763 163.104 \nL 267.288835 163.126195 \nL 263.681563 163.464115 \nL 260.07429 163.802035 \nL 256.467017 164.139955 \nL 252.859744 164.477875 \nL 249.252472 164.815795 \nL 245.645199 165.153715 \nL 242.037926 165.491635 \nL 238.831546 165.792 \nL 238.430653 165.829555 \nL 234.823381 166.167475 \nL 231.216108 166.505395 \nL 227.608835 166.843315 \nL 224.001562 167.181235 \nL 220.39429 167.519154 \nL 216.787017 167.857074 \nL 213.179744 168.194994 \nL 210.137329 168.48 \nL 209.572472 168.532914 \nL 205.965199 168.870834 \nL 202.357926 169.208754 \nL 198.750653 169.546674 \nL 195.143381 169.884594 \nL 191.536108 170.222514 \nL 187.928835 170.560434 \nL 184.321562 170.898354 \nL 181.443113 171.168 \nL 180.71429 171.236274 \nL 177.107017 171.574194 \nL 173.499744 171.912114 \nL 169.892472 172.250034 \nL 166.285199 172.587954 \nL 162.677926 172.925874 \nL 159.070653 173.263794 \nL 155.463381 173.601714 \nL 152.748896 173.856 \nL 151.856108 173.939634 \nL 148.248835 174.277554 \nL 144.641562 174.615474 \nL 141.03429 174.953394 \nL 137.427017 175.291314 \nL 133.819744 175.629234 \nL 130.212472 175.967154 \nL 126.605199 176.305074 \nL 124.05468 176.544 \nL 122.997926 176.642994 \nL 119.390653 176.980914 \nL 115.783381 177.318834 \nL 112.176108 177.656754 \nL 108.568835 177.994674 \nL 104.961562 178.332594 \nL 101.35429 178.670514 \nL 97.747017 179.008434 \nL 95.360463 179.232 \nL 94.139744 179.346354 \nL 90.532472 179.684274 \nL 86.925199 180.022194 \nL 83.317926 180.360114 \nL 79.710653 180.698034 \nL 76.103381 181.035954 \nL 72.496108 181.373874 \nL 68.888835 181.711794 \nL 66.666247 181.92 \nL 65.281562 182.049714 \nL 61.67429 182.387634 \nL 58.067017 182.725554 \nL 54.459744 183.063474 \nL 50.852472 183.401394 \nL 47.245199 183.739314 \nL 43.637926 184.077234 \nL 40.030653 184.415153 \nL 37.97203 184.608 \nL 36.423381 184.753073 \nL 32.816108 185.090993 \nL 29.208835 185.428913 \nL 25.601562 185.766833 \n\" clip-path=\"url(#pf3f91d0c56)\" style=\"fill: none; stroke-dasharray: 5.55,2.4; stroke-dashoffset: 0; stroke: #000000; stroke-opacity: 0.5; stroke-width: 1.5\"/>\n   </g>\n   <g id=\"patch_3\">\n    <path d=\"M 25.601563 273.312 \nL 25.601563 7.2 \n\" style=\"fill: none; stroke: #ffffff; stroke-width: 0.8; stroke-linejoin: miter; stroke-linecap: square\"/>\n   </g>\n   <g id=\"patch_4\">\n    <path d=\"M 382.721563 273.312 \nL 382.721563 7.2 \n\" style=\"fill: none; stroke: #ffffff; stroke-width: 0.8; stroke-linejoin: miter; stroke-linecap: square\"/>\n   </g>\n   <g id=\"patch_5\">\n    <path d=\"M 25.601562 273.312 \nL 382.721563 273.312 \n\" style=\"fill: none; stroke: #ffffff; stroke-width: 0.8; stroke-linejoin: miter; stroke-linecap: square\"/>\n   </g>\n   <g id=\"patch_6\">\n    <path d=\"M 25.601562 7.2 \nL 382.721563 7.2 \n\" style=\"fill: none; stroke: #ffffff; stroke-width: 0.8; stroke-linejoin: miter; stroke-linecap: square\"/>\n   </g>\n  </g>\n </g>\n <defs>\n  <clipPath id=\"pf3f91d0c56\">\n   <rect x=\"25.601563\" y=\"7.2\" width=\"357.12\" height=\"266.112\"/>\n  </clipPath>\n </defs>\n</svg>\n"
     },
     "metadata": {},
     "output_type": "display_data"
    }
   ],
   "source": [
    "w = model.coef_[0]\n",
    "w_norm = np.linalg.norm(w)\n",
    "b = model.intercept_\n",
    "\n",
    "for i in model.support_:\n",
    "    xi = X[i]\n",
    "    r = (b + w.T @ xi) / w_norm\n",
    "    xi_T = xi - r * w / w_norm\n",
    "    plt.plot([xi[0], xi_T[0]], [xi[1], xi_T[1]])\n",
    "plot_scatter()\n",
    "plt.show()"
   ],
   "metadata": {
    "collapsed": false,
    "ExecuteTime": {
     "end_time": "2023-10-28T13:14:50.827379200Z",
     "start_time": "2023-10-28T13:14:50.436336Z"
    }
   },
   "id": "2bfaa9fa9674b67d"
  },
  {
   "cell_type": "markdown",
   "id": "a207e57a-af49-463d-b93a-e0a733a074b3",
   "metadata": {
    "id": "a207e57a-af49-463d-b93a-e0a733a074b3"
   },
   "source": [
    "l## Task 2 Large Margin Classifier on the Wine Dataset (4 points)\n",
    "This dataset `sklearn.datasets.load_wine()` contains the chemical analysis of 178 wine samples produced by 3 different cultivators: the goal is to train a classification model capable of predicting the cultivator based on the wine's chemical analysis. Since SVM classifiers are binary classifiers, you will need to use one-versus-all to classify all 3 classes. What accuracy can you reach?"
   ]
  },
  {
   "cell_type": "code",
   "execution_count": null,
   "id": "016a06f5-f14a-4abe-9733-22760bf5a8d1",
   "metadata": {
    "tags": [],
    "id": "016a06f5-f14a-4abe-9733-22760bf5a8d1"
   },
   "outputs": [],
   "source": [
    "wine = datasets.load_wine(as_frame=True)\n",
    "print(wine.DESCR)"
   ]
  },
  {
   "cell_type": "markdown",
   "id": "c29cd774-13d5-42ec-886b-2e90305f36aa",
   "metadata": {
    "id": "c29cd774-13d5-42ec-886b-2e90305f36aa"
   },
   "source": [
    "**TASK 2A**: Train a linear SVM on the dataset and report the accuracy"
   ]
  },
  {
   "cell_type": "code",
   "execution_count": null,
   "id": "bd87802f-1a57-47bf-b639-d70d44c837c3",
   "metadata": {
    "id": "bd87802f-1a57-47bf-b639-d70d44c837c3",
    "tags": []
   },
   "outputs": [],
   "source": [
    "from sklearn.model_selection import train_test_split\n",
    "\n",
    "X_train, X_test, y_train, y_test = train_test_split(\n",
    "    wine.data, wine.target, random_state=42)"
   ]
  },
  {
   "cell_type": "code",
   "execution_count": null,
   "id": "852844a6-99a0-4cc6-8f01-3e0fdf5b7cfd",
   "metadata": {
    "id": "852844a6-99a0-4cc6-8f01-3e0fdf5b7cfd",
    "tags": []
   },
   "outputs": [],
   "source": [
    "X_train.head()"
   ]
  },
  {
   "cell_type": "code",
   "execution_count": null,
   "id": "03027a0c-544f-4819-81c4-cbc928d32226",
   "metadata": {
    "id": "03027a0c-544f-4819-81c4-cbc928d32226",
    "tags": []
   },
   "outputs": [],
   "source": [
    "y_train.head()"
   ]
  },
  {
   "cell_type": "code",
   "execution_count": null,
   "id": "0a489075-b260-4e98-881c-f891e43227ca",
   "metadata": {
    "id": "0a489075-b260-4e98-881c-f891e43227ca"
   },
   "outputs": [],
   "source": []
  },
  {
   "cell_type": "markdown",
   "id": "529722d7-ffb9-4fd5-9723-c0039e99b903",
   "metadata": {
    "id": "529722d7-ffb9-4fd5-9723-c0039e99b903"
   },
   "source": [
    "SVC will automatically use the One-vs-All strategy, so there's nothing special we need to do to handle multiple classes."
   ]
  },
  {
   "cell_type": "code",
   "execution_count": null,
   "id": "a59d82fd-d975-4c70-a368-390c84e86f54",
   "metadata": {
    "tags": [],
    "id": "a59d82fd-d975-4c70-a368-390c84e86f54"
   },
   "outputs": [],
   "source": [
    "model = svm.SVC(kernel='linear', C=1000, tol=0.0001, random_state=42)  # initialize the model\n",
    "..."
   ]
  },
  {
   "cell_type": "markdown",
   "id": "53f54ec0-7d8a-49e0-8252-3309fa306d0f",
   "metadata": {
    "id": "53f54ec0-7d8a-49e0-8252-3309fa306d0f"
   },
   "source": [
    "Calulate the accuracy (cross validation score):"
   ]
  },
  {
   "cell_type": "code",
   "execution_count": null,
   "id": "cb2a01f8-db95-41dd-b902-1336961a6794",
   "metadata": {
    "id": "cb2a01f8-db95-41dd-b902-1336961a6794"
   },
   "outputs": [],
   "source": [
    "from sklearn.model_selection import cross_val_score\n",
    "\n",
    "cross_val_score(...).mean()"
   ]
  },
  {
   "cell_type": "code",
   "execution_count": null,
   "id": "86fe7142-507a-4c42-b795-002e1c1bf47b",
   "metadata": {
    "id": "86fe7142-507a-4c42-b795-002e1c1bf47b"
   },
   "outputs": [],
   "source": []
  },
  {
   "cell_type": "markdown",
   "id": "60c4c092-c5d7-4410-b851-4b8e1895de21",
   "metadata": {
    "id": "60c4c092-c5d7-4410-b851-4b8e1895de21"
   },
   "source": [
    "## 📢 **HAND-IN** 📢:\n",
    "Report the accuracy that you reached in task 2A without feature scaling in Moodle"
   ]
  },
  {
   "cell_type": "code",
   "execution_count": null,
   "id": "8f823f52-de0e-4d33-aad1-e28359ae53c7",
   "metadata": {
    "id": "8f823f52-de0e-4d33-aad1-e28359ae53c7"
   },
   "outputs": [],
   "source": []
  },
  {
   "cell_type": "markdown",
   "id": "43ea63a7-f8ad-41c5-b1a3-389ccc83de24",
   "metadata": {
    "id": "43ea63a7-f8ad-41c5-b1a3-389ccc83de24"
   },
   "source": [
    "**Task 2B**: Which accuracy (cross validation score) can you reach when you standarize the features before training?  \n",
    "See https://scikit-learn.org/stable/modules/generated/sklearn.preprocessing.StandardScaler.html"
   ]
  },
  {
   "cell_type": "code",
   "execution_count": null,
   "id": "53de78c0-df3c-4985-8efc-14ec466667d1",
   "metadata": {
    "id": "53de78c0-df3c-4985-8efc-14ec466667d1"
   },
   "outputs": [],
   "source": []
  },
  {
   "cell_type": "code",
   "execution_count": null,
   "id": "485c6513-4108-45cf-b82c-f3371d8f3796",
   "metadata": {
    "id": "485c6513-4108-45cf-b82c-f3371d8f3796"
   },
   "outputs": [],
   "source": [
    "cross_val_score(...).mean()"
   ]
  },
  {
   "cell_type": "markdown",
   "id": "3d627b15-3dcb-4603-9fb7-5b010f638b44",
   "metadata": {
    "id": "3d627b15-3dcb-4603-9fb7-5b010f638b44"
   },
   "source": [
    "## 📢 **HAND-IN** 📢: Report the accuracy that you reached with feature standaridsation in Task 2B in Moodle"
   ]
  },
  {
   "cell_type": "code",
   "execution_count": null,
   "id": "772a819d-dd9b-48e4-b6fe-f18246f3e93d",
   "metadata": {
    "id": "772a819d-dd9b-48e4-b6fe-f18246f3e93d"
   },
   "outputs": [],
   "source": []
  }
 ],
 "metadata": {
  "kernelspec": {
   "display_name": "Python 3 (ipykernel)",
   "language": "python",
   "name": "python3"
  },
  "language_info": {
   "codemirror_mode": {
    "name": "ipython",
    "version": 3
   },
   "file_extension": ".py",
   "mimetype": "text/x-python",
   "name": "python",
   "nbconvert_exporter": "python",
   "pygments_lexer": "ipython3",
   "version": "3.8.17"
  },
  "colab": {
   "provenance": []
  }
 },
 "nbformat": 4,
 "nbformat_minor": 5
}
