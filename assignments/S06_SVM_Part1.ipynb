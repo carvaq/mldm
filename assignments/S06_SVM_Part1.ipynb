{
 "cells": [
  {
   "cell_type": "markdown",
   "id": "0ec81e2d-db8a-497d-a85b-7f9ad0094899",
   "metadata": {
    "id": "0ec81e2d-db8a-497d-a85b-7f9ad0094899"
   },
   "source": [
    "# Support Vector Machines Part 1"
   ]
  },
  {
   "cell_type": "code",
   "execution_count": 1,
   "id": "0d7ff475-7289-44da-b100-a8bdf43b7d2e",
   "metadata": {
    "id": "0d7ff475-7289-44da-b100-a8bdf43b7d2e",
    "tags": [],
    "ExecuteTime": {
     "end_time": "2023-10-30T12:25:53.165791300Z",
     "start_time": "2023-10-30T12:25:52.421778900Z"
    }
   },
   "outputs": [],
   "source": [
    "%matplotlib inline\n",
    "import numpy as np\n",
    "import pandas as pd\n",
    "import matplotlib as mpl\n",
    "import matplotlib.pyplot as plt\n",
    "\n",
    "from sklearn import datasets\n",
    "from sklearn import svm\n",
    "from sklearn import preprocessing"
   ]
  },
  {
   "cell_type": "code",
   "execution_count": null,
   "id": "8b0e851c-a81d-4814-a060-b9bd26da7f34",
   "metadata": {
    "id": "8b0e851c-a81d-4814-a060-b9bd26da7f34",
    "tags": []
   },
   "outputs": [],
   "source": [
    "%config InlineBackend.figure_formats =['svg']\n",
    "\n",
    "plt.rc('font', size=14)\n",
    "plt.rc('axes', labelsize=14, titlesize=14)\n",
    "plt.rc('legend', fontsize=14)\n",
    "plt.rc('xtick', labelsize=10)\n",
    "plt.rc('ytick', labelsize=10)\n",
    "\n",
    "cmap = mpl.colors.ListedColormap(['red', 'black', 'blue'])"
   ]
  },
  {
   "cell_type": "markdown",
   "id": "920fe1cd-fd75-4b56-a47c-4317b990551a",
   "metadata": {
    "id": "920fe1cd-fd75-4b56-a47c-4317b990551a"
   },
   "source": [
    "## Task 1 Decision Boundary from a Maximal Margin Classifier (6 points)\n",
    "Let's create some synthetic data with two classes:"
   ]
  },
  {
   "cell_type": "code",
   "execution_count": null,
   "id": "e76c7349-896a-4c70-9257-e08435f0c263",
   "metadata": {
    "id": "e76c7349-896a-4c70-9257-e08435f0c263",
    "tags": []
   },
   "outputs": [],
   "source": [
    "X, y = datasets.make_blobs(n_samples=50, centers=2,\n",
    "                           random_state=0, cluster_std=0.60)\n",
    "\n",
    "y[np.where(y == 0)] = -1\n",
    "\n",
    "fig, ax = plt.subplots(figsize=(5, 5))\n",
    "ax.scatter(X[:, 0], X[:, 1], c=y, s=50, cmap=cmap)\n",
    "\n",
    "ax.set_xlabel(r'$x_1$', fontsize=16)\n",
    "ax.set_ylabel(r'$x_2$', fontsize=16)\n",
    "\n",
    "plt.show()"
   ]
  },
  {
   "cell_type": "markdown",
   "id": "43d2da5f-b77c-4a21-a432-a32c2b43f863",
   "metadata": {
    "id": "43d2da5f-b77c-4a21-a432-a32c2b43f863"
   },
   "source": [
    "In this task we will use the `SVC` model of `sklearn.svm` with a `kernel=linear` and large parameter `C`. `sklearn`'s module `svm` has implementations of several Support Vector Machine algorithms. Some are meant to solve Regression, some - Classification problems. `LinearSVC` stands for Linear Support Vector Classification which is exactly what we need in order to solve the maximal margin classification problem. However, `svm.SVC` offers more flexibility in order to extract the learned parameters etc."
   ]
  },
  {
   "cell_type": "code",
   "execution_count": null,
   "id": "23ebbb6a-3e34-42de-86bc-40bb56dee0f9",
   "metadata": {
    "id": "23ebbb6a-3e34-42de-86bc-40bb56dee0f9",
    "tags": []
   },
   "outputs": [],
   "source": [
    "model = svm.SVC(kernel='linear', C=1000, tol=0.0001)  # initialize the model\n",
    "model.fit(X, y)  # fit the model = learn the decision boundaries"
   ]
  },
  {
   "cell_type": "markdown",
   "id": "42cbd32e-a9d9-408e-b647-2be8e3eae63f",
   "metadata": {
    "id": "42cbd32e-a9d9-408e-b647-2be8e3eae63f"
   },
   "source": [
    "When the optimisation has completed, you can access the parameters of the separating hyperplane. The vector $\\mathbf{w}$:"
   ]
  },
  {
   "cell_type": "code",
   "execution_count": null,
   "id": "7420afd1-bfd8-47fa-b306-c898658a1498",
   "metadata": {
    "id": "7420afd1-bfd8-47fa-b306-c898658a1498",
    "tags": []
   },
   "outputs": [],
   "source": [
    "model.coef_"
   ]
  },
  {
   "cell_type": "markdown",
   "id": "63cf71dc-a753-4784-92f9-f52f2e5638f9",
   "metadata": {
    "id": "63cf71dc-a753-4784-92f9-f52f2e5638f9"
   },
   "source": [
    "The $b$:"
   ]
  },
  {
   "cell_type": "code",
   "execution_count": null,
   "id": "bc71041a-b432-4cb3-8057-e46dcf305938",
   "metadata": {
    "id": "bc71041a-b432-4cb3-8057-e46dcf305938",
    "tags": []
   },
   "outputs": [],
   "source": [
    "model.intercept_"
   ]
  },
  {
   "cell_type": "markdown",
   "id": "ea9af3db-c843-422c-ba5a-875d719ad9a0",
   "metadata": {
    "id": "ea9af3db-c843-422c-ba5a-875d719ad9a0",
    "tags": []
   },
   "source": [
    "The indices of the support vectors:"
   ]
  },
  {
   "cell_type": "code",
   "execution_count": null,
   "id": "9fa4d49b-f42b-4de2-9e54-1ae516a5a495",
   "metadata": {
    "id": "9fa4d49b-f42b-4de2-9e54-1ae516a5a495",
    "tags": []
   },
   "outputs": [],
   "source": [
    "model.support_"
   ]
  },
  {
   "cell_type": "markdown",
   "id": "728a5bd2-239a-43dc-ba2a-ab8df28f836b",
   "metadata": {
    "id": "728a5bd2-239a-43dc-ba2a-ab8df28f836b"
   },
   "source": [
    "So you can slice $\\mathbf{X}$ for the corresponding coordinates"
   ]
  },
  {
   "cell_type": "code",
   "execution_count": null,
   "id": "bbeef760-10a1-406d-bd6c-e31742857bac",
   "metadata": {
    "id": "bbeef760-10a1-406d-bd6c-e31742857bac",
    "tags": []
   },
   "outputs": [],
   "source": [
    "X[model.support_]"
   ]
  },
  {
   "cell_type": "markdown",
   "id": "4b49c5f7-a206-4543-894a-adaf0dd3bb6c",
   "metadata": {
    "id": "4b49c5f7-a206-4543-894a-adaf0dd3bb6c"
   },
   "source": [
    "or get them directly:"
   ]
  },
  {
   "cell_type": "code",
   "execution_count": null,
   "id": "ab2de8e6-e43e-4bbd-9c6e-906b980b5672",
   "metadata": {
    "id": "ab2de8e6-e43e-4bbd-9c6e-906b980b5672",
    "tags": []
   },
   "outputs": [],
   "source": [
    "model.support_vectors_"
   ]
  },
  {
   "cell_type": "markdown",
   "id": "f5e64571-5b2a-4d7f-8889-0d5864c0f577",
   "metadata": {
    "id": "f5e64571-5b2a-4d7f-8889-0d5864c0f577"
   },
   "source": [
    "**Task 1A** Calculate $y^{(m)}\\left(b+w^Tx^{(m)}\\right)$ for every support vector. Please explain whether the result complies with your expectation and why?"
   ]
  },
  {
   "cell_type": "code",
   "execution_count": null,
   "id": "c47e38b2-41a0-4d58-b42d-0b7050efa0e0",
   "metadata": {
    "id": "c47e38b2-41a0-4d58-b42d-0b7050efa0e0"
   },
   "outputs": [],
   "source": [
    "mag = []\n",
    "for idx in model.support_:\n",
    "    mag.append(y[idx] * (model.intercept_ + model.coef_ @ X[idx].T)[0])\n",
    "\n",
    "print(mag)\n",
    "print([y[idx] for idx in model.support_])"
   ]
  },
  {
   "cell_type": "markdown",
   "id": "d41b1d9d-e221-4765-8611-571f47084ad0",
   "metadata": {
    "id": "d41b1d9d-e221-4765-8611-571f47084ad0"
   },
   "source": [
    "## 📢 **HAND-IN** 📢: Report the calculated values and your explanation from Task 1A in Moodle"
   ]
  },
  {
   "cell_type": "code",
   "execution_count": null,
   "id": "0d3f2bea-d4d2-4888-b4a6-1492e3405988",
   "metadata": {
    "id": "0d3f2bea-d4d2-4888-b4a6-1492e3405988"
   },
   "outputs": [],
   "source": [
    "model.predict(X)"
   ]
  },
  {
   "cell_type": "markdown",
   "id": "7d69fc08-0000-4819-ab8d-9e9dcc8de9c8",
   "metadata": {
    "id": "7d69fc08-0000-4819-ab8d-9e9dcc8de9c8"
   },
   "source": [
    "**Task 1B** Calculate the distance from the decision boundary to the support vectors, i.e. the width of the margin"
   ]
  },
  {
   "cell_type": "code",
   "execution_count": null,
   "id": "3531a93f-2dc5-4674-847d-c5ac720e1230",
   "metadata": {
    "id": "3531a93f-2dc5-4674-847d-c5ac720e1230"
   },
   "outputs": [],
   "source": [
    "mag = []\n",
    "w_sig = np.linalg.norm(model.coef_)\n",
    "for idx in model.support_:\n",
    "    mag.append(y[idx] / w_sig * (model.intercept_ + model.coef_ @ X[idx].T)[0])\n",
    "\n",
    "print(mag)"
   ]
  },
  {
   "cell_type": "markdown",
   "id": "bcb821b4-551a-4c46-81bc-246295ef43e1",
   "metadata": {
    "id": "bcb821b4-551a-4c46-81bc-246295ef43e1"
   },
   "source": [
    "## 📢 **HAND-IN** 📢: Report the width of the margin calculated in Task 1B in Moodle"
   ]
  },
  {
   "cell_type": "code",
   "execution_count": null,
   "id": "5e84d30a-0a8f-402f-8dbf-64aaafa91402",
   "metadata": {
    "id": "5e84d30a-0a8f-402f-8dbf-64aaafa91402"
   },
   "outputs": [],
   "source": []
  },
  {
   "cell_type": "markdown",
   "id": "515a6183-5ee3-454f-8430-7bf3a1ff119f",
   "metadata": {
    "id": "515a6183-5ee3-454f-8430-7bf3a1ff119f"
   },
   "source": [
    "**Task 1C** Generate a scatterplot with the data $X$, the decision boundary and the gutters like in\n",
    "https://github.zhaw.ch/pages/doem/mldm_book/06_svm.html#fig-max-margin\n",
    "using the optimised parameters `model.interecept_` and `model.coef_[0]`"
   ]
  },
  {
   "cell_type": "markdown",
   "id": "cd6e8cb6-d84f-4c15-8ec7-b85b5de660e7",
   "metadata": {
    "id": "cd6e8cb6-d84f-4c15-8ec7-b85b5de660e7"
   },
   "source": [
    "## 📢 **HAND-IN** 📢: Upload an image-file of the plot from task 1C in Moodle"
   ]
  },
  {
   "cell_type": "code",
   "execution_count": null,
   "id": "603f822ee45df204",
   "metadata": {
    "collapsed": false
   },
   "outputs": [],
   "source": [
    "def plot_scatter():\n",
    "    from sklearn.inspection import DecisionBoundaryDisplay\n",
    "\n",
    "    plt.scatter(X[:, 0], X[:, 1], c=y, s=30, cmap=plt.cm.Paired)\n",
    "\n",
    "    # plot the decision function\n",
    "    ax = plt.gca()\n",
    "    DecisionBoundaryDisplay.from_estimator(\n",
    "        model,\n",
    "        X,\n",
    "        plot_method=\"contour\",\n",
    "        colors=\"k\",\n",
    "        levels=[-1, 0, 1],\n",
    "        alpha=0.5,\n",
    "        linestyles=[\"--\", \"-\", \"--\"],\n",
    "        ax=ax,\n",
    "    )\n",
    "    # plot support vectors\n",
    "    ax.scatter(\n",
    "        model.support_vectors_[:, 0],\n",
    "        model.support_vectors_[:, 1],\n",
    "        s=100,\n",
    "        linewidth=1,\n",
    "        facecolors=\"none\",\n",
    "        edgecolors=\"k\",\n",
    "    )"
   ]
  },
  {
   "cell_type": "code",
   "execution_count": null,
   "outputs": [],
   "source": [
    "  def plot_scatter(clf):\n",
    "    plt.scatter(X[:, 0], X[:, 1], c=y, s=30, cmap=plt.cm.Paired)\n",
    "    # plot the decision function\n",
    "    ax = plt.gca()\n",
    "    xlim = ax.get_xlim()\n",
    "    ylim = ax.get_ylim()\n",
    "    # create grid to evaluate model\n",
    "    xx = np.linspace(xlim[0], xlim[1], 30)\n",
    "    yy = np.linspace(ylim[0], ylim[1], 30)\n",
    "    YY, XX = np.meshgrid(yy, xx)\n",
    "    xy = np.vstack([XX.ravel(), YY.ravel()]).T\n",
    "    Z = clf.decision_function(xy).reshape(XX.shape)\n",
    "    ax.scatter(XX, YY, marker=\".\", alpha=0.5, color='gray')\n",
    "    # plot decision boundary and margins\n",
    "    ax.contour(XX, YY, Z, colors='k', levels=[-1, 0, 1], alpha=0.5,\n",
    "               linestyles=['--', '-', '--'])\n",
    "    # plot support vectors\n",
    "    ax.scatter(clf.support_vectors_[:, 0], clf.support_vectors_[:, 1], s=100,\n",
    "               linewidth=1, facecolors='none')"
   ],
   "metadata": {
    "collapsed": false
   },
   "id": "320bb3faf8870d4a"
  },
  {
   "cell_type": "markdown",
   "id": "a207e57a-af49-463d-b93a-e0a733a074b3",
   "metadata": {
    "id": "a207e57a-af49-463d-b93a-e0a733a074b3"
   },
   "source": [
    "l## Task 2 Large Margin Classifier on the Wine Dataset (4 points)\n",
    "This dataset `sklearn.datasets.load_wine()` contains the chemical analysis of 178 wine samples produced by 3 different cultivators: the goal is to train a classification model capable of predicting the cultivator based on the wine's chemical analysis. Since SVM classifiers are binary classifiers, you will need to use one-versus-all to classify all 3 classes. What accuracy can you reach?"
   ]
  },
  {
   "cell_type": "code",
   "execution_count": null,
   "outputs": [],
   "source": [
    "w = model.coef_[0]\n",
    "w_norm = np.linalg.norm(w)\n",
    "b = model.intercept_\n",
    "\n",
    "for i in model.support_:\n",
    "    xi = X[i]\n",
    "    r = (b + w.T @ xi) / w_norm\n",
    "    xi_T = xi - r * w / w_norm\n",
    "    plt.plot([xi[0], xi_T[0]], [xi[1], xi_T[1]])\n",
    "plot_scatter(model)\n",
    "plt.savefig('foo.png')"
   ],
   "metadata": {
    "collapsed": false
   },
   "id": "2bfaa9fa9674b67d"
  },
  {
   "cell_type": "code",
   "execution_count": 3,
   "id": "016a06f5-f14a-4abe-9733-22760bf5a8d1",
   "metadata": {
    "id": "016a06f5-f14a-4abe-9733-22760bf5a8d1",
    "tags": [],
    "ExecuteTime": {
     "end_time": "2023-10-30T12:26:19.919451100Z",
     "start_time": "2023-10-30T12:26:19.802260200Z"
    }
   },
   "outputs": [
    {
     "name": "stdout",
     "output_type": "stream",
     "text": [
      ".. _wine_dataset:\n",
      "\n",
      "Wine recognition dataset\n",
      "------------------------\n",
      "\n",
      "**Data Set Characteristics:**\n",
      "\n",
      "    :Number of Instances: 178\n",
      "    :Number of Attributes: 13 numeric, predictive attributes and the class\n",
      "    :Attribute Information:\n",
      " \t\t- Alcohol\n",
      " \t\t- Malic acid\n",
      " \t\t- Ash\n",
      "\t\t- Alcalinity of ash  \n",
      " \t\t- Magnesium\n",
      "\t\t- Total phenols\n",
      " \t\t- Flavanoids\n",
      " \t\t- Nonflavanoid phenols\n",
      " \t\t- Proanthocyanins\n",
      "\t\t- Color intensity\n",
      " \t\t- Hue\n",
      " \t\t- OD280/OD315 of diluted wines\n",
      " \t\t- Proline\n",
      "\n",
      "    - class:\n",
      "            - class_0\n",
      "            - class_1\n",
      "            - class_2\n",
      "\t\t\n",
      "    :Summary Statistics:\n",
      "    \n",
      "    ============================= ==== ===== ======= =====\n",
      "                                   Min   Max   Mean     SD\n",
      "    ============================= ==== ===== ======= =====\n",
      "    Alcohol:                      11.0  14.8    13.0   0.8\n",
      "    Malic Acid:                   0.74  5.80    2.34  1.12\n",
      "    Ash:                          1.36  3.23    2.36  0.27\n",
      "    Alcalinity of Ash:            10.6  30.0    19.5   3.3\n",
      "    Magnesium:                    70.0 162.0    99.7  14.3\n",
      "    Total Phenols:                0.98  3.88    2.29  0.63\n",
      "    Flavanoids:                   0.34  5.08    2.03  1.00\n",
      "    Nonflavanoid Phenols:         0.13  0.66    0.36  0.12\n",
      "    Proanthocyanins:              0.41  3.58    1.59  0.57\n",
      "    Colour Intensity:              1.3  13.0     5.1   2.3\n",
      "    Hue:                          0.48  1.71    0.96  0.23\n",
      "    OD280/OD315 of diluted wines: 1.27  4.00    2.61  0.71\n",
      "    Proline:                       278  1680     746   315\n",
      "    ============================= ==== ===== ======= =====\n",
      "\n",
      "    :Missing Attribute Values: None\n",
      "    :Class Distribution: class_0 (59), class_1 (71), class_2 (48)\n",
      "    :Creator: R.A. Fisher\n",
      "    :Donor: Michael Marshall (MARSHALL%PLU@io.arc.nasa.gov)\n",
      "    :Date: July, 1988\n",
      "\n",
      "This is a copy of UCI ML Wine recognition datasets.\n",
      "https://archive.ics.uci.edu/ml/machine-learning-databases/wine/wine.data\n",
      "\n",
      "The data is the results of a chemical analysis of wines grown in the same\n",
      "region in Italy by three different cultivators. There are thirteen different\n",
      "measurements taken for different constituents found in the three types of\n",
      "wine.\n",
      "\n",
      "Original Owners: \n",
      "\n",
      "Forina, M. et al, PARVUS - \n",
      "An Extendible Package for Data Exploration, Classification and Correlation. \n",
      "Institute of Pharmaceutical and Food Analysis and Technologies,\n",
      "Via Brigata Salerno, 16147 Genoa, Italy.\n",
      "\n",
      "Citation:\n",
      "\n",
      "Lichman, M. (2013). UCI Machine Learning Repository\n",
      "[https://archive.ics.uci.edu/ml]. Irvine, CA: University of California,\n",
      "School of Information and Computer Science. \n",
      "\n",
      "|details-start|\n",
      "**References**\n",
      "|details-split|\n",
      "\n",
      "(1) S. Aeberhard, D. Coomans and O. de Vel, \n",
      "Comparison of Classifiers in High Dimensional Settings, \n",
      "Tech. Rep. no. 92-02, (1992), Dept. of Computer Science and Dept. of  \n",
      "Mathematics and Statistics, James Cook University of North Queensland. \n",
      "(Also submitted to Technometrics). \n",
      "\n",
      "The data was used with many others for comparing various \n",
      "classifiers. The classes are separable, though only RDA \n",
      "has achieved 100% correct classification. \n",
      "(RDA : 100%, QDA 99.4%, LDA 98.9%, 1NN 96.1% (z-transformed data)) \n",
      "(All results using the leave-one-out technique) \n",
      "\n",
      "(2) S. Aeberhard, D. Coomans and O. de Vel, \n",
      "\"THE CLASSIFICATION PERFORMANCE OF RDA\" \n",
      "Tech. Rep. no. 92-01, (1992), Dept. of Computer Science and Dept. of \n",
      "Mathematics and Statistics, James Cook University of North Queensland. \n",
      "(Also submitted to Journal of Chemometrics).\n",
      "\n",
      "|details-end|\n"
     ]
    }
   ],
   "source": [
    "wine = datasets.load_wine(as_frame=True)\n",
    "print(wine.DESCR)"
   ]
  },
  {
   "cell_type": "markdown",
   "id": "c29cd774-13d5-42ec-886b-2e90305f36aa",
   "metadata": {
    "id": "c29cd774-13d5-42ec-886b-2e90305f36aa"
   },
   "source": [
    "**TASK 2A**: Train a linear SVM on the dataset and report the accuracy"
   ]
  },
  {
   "cell_type": "code",
   "execution_count": 4,
   "id": "bd87802f-1a57-47bf-b639-d70d44c837c3",
   "metadata": {
    "id": "bd87802f-1a57-47bf-b639-d70d44c837c3",
    "tags": [],
    "ExecuteTime": {
     "end_time": "2023-10-30T12:26:23.078533200Z",
     "start_time": "2023-10-30T12:26:22.748739100Z"
    }
   },
   "outputs": [],
   "source": [
    "from sklearn.model_selection import train_test_split\n",
    "\n",
    "X_train, X_test, y_train, y_test = train_test_split(\n",
    "    wine.data, wine.target, random_state=42)"
   ]
  },
  {
   "cell_type": "code",
   "execution_count": null,
   "id": "852844a6-99a0-4cc6-8f01-3e0fdf5b7cfd",
   "metadata": {
    "id": "852844a6-99a0-4cc6-8f01-3e0fdf5b7cfd",
    "tags": []
   },
   "outputs": [],
   "source": [
    "X_train.head()"
   ]
  },
  {
   "cell_type": "code",
   "execution_count": null,
   "id": "03027a0c-544f-4819-81c4-cbc928d32226",
   "metadata": {
    "id": "03027a0c-544f-4819-81c4-cbc928d32226",
    "tags": []
   },
   "outputs": [],
   "source": [
    "y_train.head()"
   ]
  },
  {
   "cell_type": "code",
   "execution_count": null,
   "id": "0a489075-b260-4e98-881c-f891e43227ca",
   "metadata": {
    "id": "0a489075-b260-4e98-881c-f891e43227ca"
   },
   "outputs": [],
   "source": []
  },
  {
   "cell_type": "markdown",
   "id": "529722d7-ffb9-4fd5-9723-c0039e99b903",
   "metadata": {
    "id": "529722d7-ffb9-4fd5-9723-c0039e99b903"
   },
   "source": [
    "SVC will automatically use the One-vs-All strategy, so there's nothing special we need to do to handle multiple classes."
   ]
  },
  {
   "cell_type": "code",
   "execution_count": 5,
   "id": "a59d82fd-d975-4c70-a368-390c84e86f54",
   "metadata": {
    "id": "a59d82fd-d975-4c70-a368-390c84e86f54",
    "tags": [],
    "ExecuteTime": {
     "end_time": "2023-10-30T12:26:26.583275Z",
     "start_time": "2023-10-30T12:26:26.369098700Z"
    }
   },
   "outputs": [],
   "source": [
    "model = svm.SVC(kernel='linear', C=1000, tol=0.0001, random_state=42)  # initialize the model\n"
   ]
  },
  {
   "cell_type": "markdown",
   "id": "53f54ec0-7d8a-49e0-8252-3309fa306d0f",
   "metadata": {
    "id": "53f54ec0-7d8a-49e0-8252-3309fa306d0f"
   },
   "source": [
    "Calculate the accuracy (cross validation score):"
   ]
  },
  {
   "cell_type": "code",
   "execution_count": 6,
   "id": "cb2a01f8-db95-41dd-b902-1336961a6794",
   "metadata": {
    "id": "cb2a01f8-db95-41dd-b902-1336961a6794",
    "ExecuteTime": {
     "end_time": "2023-10-30T12:26:30.026809500Z",
     "start_time": "2023-10-30T12:26:29.172898600Z"
    }
   },
   "outputs": [
    {
     "data": {
      "text/plain": "0.9555555555555555"
     },
     "execution_count": 6,
     "metadata": {},
     "output_type": "execute_result"
    }
   ],
   "source": [
    "from sklearn.model_selection import cross_val_score\n",
    "\n",
    "cross_val_score(model, X_test, y_test).mean()"
   ]
  },
  {
   "cell_type": "markdown",
   "id": "60c4c092-c5d7-4410-b851-4b8e1895de21",
   "metadata": {
    "id": "60c4c092-c5d7-4410-b851-4b8e1895de21"
   },
   "source": [
    "## 📢 **HAND-IN** 📢:\n",
    "Report the accuracy that you reached in task 2A without feature scaling in Moodle"
   ]
  },
  {
   "cell_type": "markdown",
   "id": "43ea63a7-f8ad-41c5-b1a3-389ccc83de24",
   "metadata": {
    "id": "43ea63a7-f8ad-41c5-b1a3-389ccc83de24"
   },
   "source": [
    "**Task 2B**: Which accuracy (cross validation score) can you reach when you standarize the features before training?  \n",
    "See https://scikit-learn.org/stable/modules/generated/sklearn.preprocessing.StandardScaler.html"
   ]
  },
  {
   "cell_type": "code",
   "execution_count": 7,
   "id": "53de78c0-df3c-4985-8efc-14ec466667d1",
   "metadata": {
    "id": "53de78c0-df3c-4985-8efc-14ec466667d1",
    "ExecuteTime": {
     "end_time": "2023-10-30T12:26:36.074048Z",
     "start_time": "2023-10-30T12:26:35.697759600Z"
    }
   },
   "outputs": [],
   "source": [
    "from sklearn.preprocessing import StandardScaler\n",
    "\n",
    "scaler = StandardScaler()\n",
    "scaler.fit(X_train)\n",
    "\n",
    "X_train = scaler.transform(X_train)\n",
    "X_test = scaler.transform(X_test)"
   ]
  },
  {
   "cell_type": "code",
   "execution_count": 8,
   "outputs": [
    {
     "data": {
      "text/plain": "0.9777777777777779"
     },
     "execution_count": 8,
     "metadata": {},
     "output_type": "execute_result"
    }
   ],
   "source": [
    "cross_val_score(model, X_test, y_test).mean()"
   ],
   "metadata": {
    "collapsed": false,
    "ExecuteTime": {
     "end_time": "2023-10-30T12:26:38.639776900Z",
     "start_time": "2023-10-30T12:26:38.318549600Z"
    }
   },
   "id": "485c6513-4108-45cf-b82c-f3371d8f3796"
  },
  {
   "cell_type": "markdown",
   "id": "3d627b15-3dcb-4603-9fb7-5b010f638b44",
   "metadata": {
    "id": "3d627b15-3dcb-4603-9fb7-5b010f638b44"
   },
   "source": [
    "## 📢 **HAND-IN** 📢: Report the accuracy that you reached with feature standaridsation in Task 2B in Moodle"
   ]
  },
  {
   "cell_type": "code",
   "execution_count": null,
   "id": "772a819d-dd9b-48e4-b6fe-f18246f3e93d",
   "metadata": {
    "id": "772a819d-dd9b-48e4-b6fe-f18246f3e93d"
   },
   "outputs": [],
   "source": []
  }
 ],
 "metadata": {
  "colab": {
   "provenance": []
  },
  "kernelspec": {
   "display_name": "Python 3 (ipykernel)",
   "language": "python",
   "name": "python3"
  },
  "language_info": {
   "codemirror_mode": {
    "name": "ipython",
    "version": 3
   },
   "file_extension": ".py",
   "mimetype": "text/x-python",
   "name": "python",
   "nbconvert_exporter": "python",
   "pygments_lexer": "ipython3",
   "version": "3.11.5"
  }
 },
 "nbformat": 4,
 "nbformat_minor": 5
}
